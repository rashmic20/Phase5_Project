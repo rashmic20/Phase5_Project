{
  "cells": [
    {
      "cell_type": "markdown",
      "metadata": {
        "id": "view-in-github",
        "colab_type": "text"
      },
      "source": [
        "<a href=\"https://colab.research.google.com/github/rashmic20/Phase5_Project/blob/main/Untitled20.ipynb\" target=\"_parent\"><img src=\"https://colab.research.google.com/assets/colab-badge.svg\" alt=\"Open In Colab\"/></a>"
      ]
    },
    {
      "cell_type": "markdown",
      "metadata": {
        "id": "2Sq4lepzfKLC"
      },
      "source": [
        "## Perform topic modeling using the Gensim library, focusing on applying Latent Dirichlet Allocation (LDA) to analyze the text data."
      ]
    },
    {
      "cell_type": "code",
      "execution_count": null,
      "metadata": {
        "colab": {
          "base_uri": "https://localhost:8080/"
        },
        "id": "qF2ZfbGlaOrZ",
        "outputId": "bee9a7bb-8b2e-4f3f-d1c0-c5eef696b92d"
      },
      "outputs": [
        {
          "name": "stderr",
          "output_type": "stream",
          "text": [
            "/usr/local/lib/python3.10/dist-packages/ipykernel/ipkernel.py:283: DeprecationWarning: `should_run_async` will not call `transform_cell` automatically in the future. Please pass the result to `transformed_cell` argument and any exception that happen during thetransform in `preprocessing_exc_tuple` in IPython 7.17 and above.\n",
            "  and should_run_async(code)\n"
          ]
        },
        {
          "name": "stdout",
          "output_type": "stream",
          "text": [
            "Requirement already satisfied: pyLDAvis in /usr/local/lib/python3.10/dist-packages (3.4.1)\n",
            "Requirement already satisfied: numpy>=1.24.2 in /usr/local/lib/python3.10/dist-packages (from pyLDAvis) (1.26.4)\n",
            "Requirement already satisfied: scipy in /usr/local/lib/python3.10/dist-packages (from pyLDAvis) (1.13.1)\n",
            "Requirement already satisfied: pandas>=2.0.0 in /usr/local/lib/python3.10/dist-packages (from pyLDAvis) (2.1.4)\n",
            "Requirement already satisfied: joblib>=1.2.0 in /usr/local/lib/python3.10/dist-packages (from pyLDAvis) (1.4.2)\n",
            "Requirement already satisfied: jinja2 in /usr/local/lib/python3.10/dist-packages (from pyLDAvis) (3.1.4)\n",
            "Requirement already satisfied: numexpr in /usr/local/lib/python3.10/dist-packages (from pyLDAvis) (2.10.1)\n",
            "Requirement already satisfied: funcy in /usr/local/lib/python3.10/dist-packages (from pyLDAvis) (2.0)\n",
            "Requirement already satisfied: scikit-learn>=1.0.0 in /usr/local/lib/python3.10/dist-packages (from pyLDAvis) (1.5.2)\n",
            "Requirement already satisfied: gensim in /usr/local/lib/python3.10/dist-packages (from pyLDAvis) (4.3.3)\n",
            "Requirement already satisfied: setuptools in /usr/local/lib/python3.10/dist-packages (from pyLDAvis) (71.0.4)\n",
            "Requirement already satisfied: python-dateutil>=2.8.2 in /usr/local/lib/python3.10/dist-packages (from pandas>=2.0.0->pyLDAvis) (2.8.2)\n",
            "Requirement already satisfied: pytz>=2020.1 in /usr/local/lib/python3.10/dist-packages (from pandas>=2.0.0->pyLDAvis) (2024.2)\n",
            "Requirement already satisfied: tzdata>=2022.1 in /usr/local/lib/python3.10/dist-packages (from pandas>=2.0.0->pyLDAvis) (2024.1)\n",
            "Requirement already satisfied: threadpoolctl>=3.1.0 in /usr/local/lib/python3.10/dist-packages (from scikit-learn>=1.0.0->pyLDAvis) (3.5.0)\n",
            "Requirement already satisfied: smart-open>=1.8.1 in /usr/local/lib/python3.10/dist-packages (from gensim->pyLDAvis) (7.0.4)\n",
            "Requirement already satisfied: MarkupSafe>=2.0 in /usr/local/lib/python3.10/dist-packages (from jinja2->pyLDAvis) (2.1.5)\n",
            "Requirement already satisfied: six>=1.5 in /usr/local/lib/python3.10/dist-packages (from python-dateutil>=2.8.2->pandas>=2.0.0->pyLDAvis) (1.16.0)\n",
            "Requirement already satisfied: wrapt in /usr/local/lib/python3.10/dist-packages (from smart-open>=1.8.1->gensim->pyLDAvis) (1.16.0)\n"
          ]
        },
        {
          "data": {
            "text/plain": [
              "Index(['review_id', 'user_id', 'business_id', 'stars_x', 'date', 'name',\n",
              "       'city', 'state', 'postal_code', 'latitude', 'longitude', 'stars_y',\n",
              "       'review_count', 'categories', 'cleaned_text', 'sentiment'],\n",
              "      dtype='object')"
            ]
          },
          "execution_count": 3,
          "metadata": {},
          "output_type": "execute_result"
        }
      ],
      "source": [
        "!pip install pyLDAvis\n",
        "import gensim\n",
        "import pandas as pd\n",
        "from nltk.tokenize import word_tokenize\n",
        "import nltk\n",
        "#from gensim import corpora, models\n",
        "import pyLDAvis.gensim\n",
        "import os\n",
        "\n",
        "df = pd.read_csv('restaurant_reviews_cleaned.csv')\n",
        "\n",
        "df.columns"
      ]
    },
    {
      "cell_type": "markdown",
      "metadata": {
        "id": "yToQ3VFsdW9Y"
      },
      "source": [
        "# Download the 'punkt' resource for NLTK"
      ]
    },
    {
      "cell_type": "code",
      "execution_count": null,
      "metadata": {
        "colab": {
          "base_uri": "https://localhost:8080/"
        },
        "id": "u6AkiPpgbFxh",
        "outputId": "be44af12-0080-470a-9f7d-76bda99d3919"
      },
      "outputs": [
        {
          "name": "stderr",
          "output_type": "stream",
          "text": [
            "/usr/local/lib/python3.10/dist-packages/ipykernel/ipkernel.py:283: DeprecationWarning: `should_run_async` will not call `transform_cell` automatically in the future. Please pass the result to `transformed_cell` argument and any exception that happen during thetransform in `preprocessing_exc_tuple` in IPython 7.17 and above.\n",
            "  and should_run_async(code)\n",
            "[nltk_data] Downloading package punkt to /root/nltk_data...\n",
            "[nltk_data]   Unzipping tokenizers/punkt.zip.\n"
          ]
        }
      ],
      "source": [
        "import nltk\n",
        "# Download the 'punkt' resource for NLTK\n",
        "nltk.download('punkt')\n",
        "docs=df['cleaned_text'].apply(word_tokenize)"
      ]
    },
    {
      "cell_type": "code",
      "execution_count": null,
      "metadata": {
        "colab": {
          "base_uri": "https://localhost:8080/"
        },
        "id": "204PozCrblFP",
        "outputId": "90a5e906-d249-45f5-b46b-8bfcc8f6bd16"
      },
      "outputs": [
        {
          "name": "stderr",
          "output_type": "stream",
          "text": [
            "/usr/local/lib/python3.10/dist-packages/ipykernel/ipkernel.py:283: DeprecationWarning: `should_run_async` will not call `transform_cell` automatically in the future. Please pass the result to `transformed_cell` argument and any exception that happen during thetransform in `preprocessing_exc_tuple` in IPython 7.17 and above.\n",
            "  and should_run_async(code)\n"
          ]
        }
      ],
      "source": [
        "d= gensim.corpora.Dictionary(docs)\n",
        "\n",
        "#convert docs to vec\n",
        "v = [d.doc2bow(doc) for doc in docs]"
      ]
    },
    {
      "cell_type": "code",
      "execution_count": null,
      "metadata": {
        "colab": {
          "base_uri": "https://localhost:8080/"
        },
        "id": "_wOi0BOIbhCn",
        "outputId": "92e6e577-7251-4ab0-e1e8-119d9f48c70d"
      },
      "outputs": [
        {
          "name": "stderr",
          "output_type": "stream",
          "text": [
            "/usr/local/lib/python3.10/dist-packages/ipykernel/ipkernel.py:283: DeprecationWarning: `should_run_async` will not call `transform_cell` automatically in the future. Please pass the result to `transformed_cell` argument and any exception that happen during thetransform in `preprocessing_exc_tuple` in IPython 7.17 and above.\n",
            "  and should_run_async(code)\n"
          ]
        },
        {
          "name": "stdout",
          "output_type": "stream",
          "text": [
            "(0, '0.063*\"shrimp\" + 0.047*\"absolutely\" + 0.036*\"crab\" + 0.027*\"seafood\" + 0.024*\"yummy\" + 0.023*\"sandwiches\" + 0.022*\"high\" + 0.021*\"lobster\" + 0.018*\"vegan\" + 0.017*\"yelp\"')\n",
            "(1, '0.031*\"nice\" + 0.031*\"menu\" + 0.018*\"little\" + 0.014*\"pretty\" + 0.013*\"bar\" + 0.012*\"burger\" + 0.012*\"bit\" + 0.012*\"much\" + 0.012*\"inside\" + 0.011*\"area\"')\n",
            "(2, '0.035*\"chicken\" + 0.030*\"ordered\" + 0.019*\"got\" + 0.019*\"sauce\" + 0.017*\"cheese\" + 0.015*\"salad\" + 0.014*\"fries\" + 0.013*\"sandwich\" + 0.013*\"fried\" + 0.013*\"hot\"')\n",
            "(3, '0.031*\"order\" + 0.013*\"get\" + 0.013*\"never\" + 0.012*\"would\" + 0.012*\"even\" + 0.011*\"said\" + 0.011*\"dont\" + 0.011*\"minutes\" + 0.010*\"one\" + 0.010*\"could\"')\n",
            "(4, '0.043*\"us\" + 0.032*\"came\" + 0.028*\"wait\" + 0.025*\"went\" + 0.025*\"didnt\" + 0.021*\"server\" + 0.021*\"table\" + 0.018*\"night\" + 0.014*\"took\" + 0.013*\"long\"')\n",
            "(5, '0.043*\"food\" + 0.028*\"great\" + 0.027*\"good\" + 0.026*\"place\" + 0.020*\"service\" + 0.015*\"back\" + 0.013*\"time\" + 0.012*\"go\" + 0.012*\"really\" + 0.011*\"best\"')\n",
            "(6, '0.062*\"cake\" + 0.028*\"chocolate\" + 0.026*\"packed\" + 0.023*\"share\" + 0.021*\"average\" + 0.021*\"cafe\" + 0.019*\"pancakes\" + 0.018*\"lemon\" + 0.017*\"absolute\" + 0.016*\"gyro\"')\n",
            "(7, '0.065*\"delicious\" + 0.042*\"love\" + 0.040*\"always\" + 0.039*\"friendly\" + 0.033*\"fresh\" + 0.025*\"super\" + 0.025*\"favorite\" + 0.023*\"spot\" + 0.022*\"lunch\" + 0.019*\"breakfast\"')\n"
          ]
        }
      ],
      "source": [
        "# Train LDA model\n",
        "lda_model = gensim.models.ldamodel.LdaModel(corpus=v,\n",
        "                                           id2word=d,\n",
        "                                           num_topics=8,\n",
        "                                           random_state=100,\n",
        "                                           update_every=1,\n",
        "                                           chunksize=100,\n",
        "                                           passes=10,\n",
        "                                           alpha='auto',\n",
        "                                           per_word_topics=True)\n",
        "\n",
        "\n",
        "vecTop= lda_model.show_topics()\n",
        "for i in range(0, 8):\n",
        "    print(vecTop[i])"
      ]
    },
    {
      "cell_type": "code",
      "execution_count": null,
      "metadata": {
        "colab": {
          "base_uri": "https://localhost:8080/",
          "height": 506
        },
        "id": "pW2Y7mxCrBlS",
        "outputId": "4b074a65-d784-47d2-f6b2-e224786e8d51"
      },
      "outputs": [
        {
          "name": "stdout",
          "output_type": "stream",
          "text": [
            "--2024-09-26 17:46:23--  http://mallet.cs.umass.edu/dist/mallet-2.0.8.zip\n",
            "Resolving mallet.cs.umass.edu (mallet.cs.umass.edu)... 128.119.246.70\n",
            "Connecting to mallet.cs.umass.edu (mallet.cs.umass.edu)|128.119.246.70|:80... connected.\n",
            "HTTP request sent, awaiting response... 302 Found\n",
            "Location: https://mallet.cs.umass.edu/dist/mallet-2.0.8.zip [following]\n",
            "--2024-09-26 17:46:24--  https://mallet.cs.umass.edu/dist/mallet-2.0.8.zip\n",
            "Connecting to mallet.cs.umass.edu (mallet.cs.umass.edu)|128.119.246.70|:443... connected.\n",
            "HTTP request sent, awaiting response... 200 OK\n",
            "Length: 16184794 (15M) [application/zip]\n",
            "Saving to: ‘mallet-2.0.8.zip.3’\n",
            "\n",
            "mallet-2.0.8.zip.3  100%[===================>]  15.43M  30.9MB/s    in 0.5s    \n",
            "\n",
            "2024-09-26 17:46:24 (30.9 MB/s) - ‘mallet-2.0.8.zip.3’ saved [16184794/16184794]\n",
            "\n",
            "Archive:  mallet-2.0.8.zip\n",
            "replace mallet-2.0.8/bin/classifier2info? [y]es, [n]o, [A]ll, [N]one, [r]ename: "
          ]
        },
        {
          "ename": "NameError",
          "evalue": "name 'LdaMallet' is not defined",
          "output_type": "error",
          "traceback": [
            "\u001b[0;31m---------------------------------------------------------------------------\u001b[0m",
            "\u001b[0;31mNameError\u001b[0m                                 Traceback (most recent call last)",
            "\u001b[0;32m<ipython-input-4-cb667ac2fb2b>\u001b[0m in \u001b[0;36m<cell line: 10>\u001b[0;34m()\u001b[0m\n\u001b[1;32m      8\u001b[0m \u001b[0;34m\u001b[0m\u001b[0m\n\u001b[1;32m      9\u001b[0m \u001b[0;31m# Initialize LdaMallet\u001b[0m\u001b[0;34m\u001b[0m\u001b[0;34m\u001b[0m\u001b[0m\n\u001b[0;32m---> 10\u001b[0;31m \u001b[0mldamallet\u001b[0m \u001b[0;34m=\u001b[0m \u001b[0mLdaMallet\u001b[0m\u001b[0;34m(\u001b[0m\u001b[0mmallet_path\u001b[0m\u001b[0;34m,\u001b[0m \u001b[0mcorpus\u001b[0m\u001b[0;34m=\u001b[0m\u001b[0mv\u001b[0m\u001b[0;34m,\u001b[0m \u001b[0mnum_topics\u001b[0m\u001b[0;34m=\u001b[0m\u001b[0;36m8\u001b[0m\u001b[0;34m,\u001b[0m \u001b[0mid2word\u001b[0m\u001b[0;34m=\u001b[0m\u001b[0md\u001b[0m\u001b[0;34m)\u001b[0m \u001b[0;31m# Define ldamallet using LdaMallet\u001b[0m\u001b[0;34m\u001b[0m\u001b[0;34m\u001b[0m\u001b[0m\n\u001b[0m\u001b[1;32m     11\u001b[0m \u001b[0;34m\u001b[0m\u001b[0m\n\u001b[1;32m     12\u001b[0m \u001b[0;31m# Map the reviews data to the model\u001b[0m\u001b[0;34m\u001b[0m\u001b[0;34m\u001b[0m\u001b[0m\n",
            "\u001b[0;31mNameError\u001b[0m: name 'LdaMallet' is not defined"
          ]
        }
      ],
      "source": [
        "# Download and unzip Mallet\n",
        "!wget http://mallet.cs.umass.edu/dist/mallet-2.0.8.zip\n",
        "!unzip mallet-2.0.8.zip\n",
        "#map the reviews data to the model, v is the reviews transformed to word vectors by doc2bow\n",
        "\n",
        "# Assuming 'mallet-2.0.8' is the extracted folder name\n",
        "mallet_path = 'mallet-2.0.8/bin/mallet'  # Update with the correct path to your Mallet binary\n",
        "\n",
        "# Initialize LdaMallet\n",
        "ldamallet = LdaMallet(mallet_path, corpus=v, num_topics=8, id2word=d) # Define ldamallet using LdaMallet\n",
        "\n",
        "# Map the reviews data to the model\n",
        "m = ldamallet[v[0:len(v)]]\n",
        "\n",
        "#Assign topic to each review\n",
        "import operator\n",
        "topic = []\n",
        "for x in m:\n",
        "    #find the topic with the highest proportions\n",
        "    t = max(x, key = operator.itemgetter(1))\n",
        "    topic.append(t[0])"
      ]
    },
    {
      "cell_type": "code",
      "execution_count": null,
      "metadata": {
        "colab": {
          "background_save": true,
          "base_uri": "https://localhost:8080/"
        },
        "id": "ahPiUo4UWFVk",
        "outputId": "f95dd170-a3a1-4cdf-af5e-fec607c58ac4"
      },
      "outputs": [
        {
          "metadata": {
            "tags": null
          },
          "name": "stdout",
          "output_type": "stream",
          "text": [
            "--2024-09-26 22:00:26--  http://mallet.cs.umass.edu/dist/mallet-2.0.8.zip\n",
            "Resolving mallet.cs.umass.edu (mallet.cs.umass.edu)... 128.119.246.70\n",
            "Connecting to mallet.cs.umass.edu (mallet.cs.umass.edu)|128.119.246.70|:80... connected.\n",
            "HTTP request sent, awaiting response... 302 Found\n",
            "Location: https://mallet.cs.umass.edu/dist/mallet-2.0.8.zip [following]\n",
            "--2024-09-26 22:00:26--  https://mallet.cs.umass.edu/dist/mallet-2.0.8.zip\n",
            "Connecting to mallet.cs.umass.edu (mallet.cs.umass.edu)|128.119.246.70|:443... connected.\n",
            "HTTP request sent, awaiting response... 200 OK\n",
            "Length: 16184794 (15M) [application/zip]\n",
            "Saving to: ‘mallet-2.0.8.zip.4’\n",
            "\n",
            "mallet-2.0.8.zip.4  100%[===================>]  15.43M  36.2MB/s    in 0.4s    \n",
            "\n",
            "2024-09-26 22:00:27 (36.2 MB/s) - ‘mallet-2.0.8.zip.4’ saved [16184794/16184794]\n",
            "\n",
            "Archive:  mallet-2.0.8.zip\n",
            "replace mallet-2.0.8/bin/classifier2info? [y]es, [n]o, [A]ll, [N]one, [r]ename: "
          ]
        }
      ],
      "source": [
        "# Download and unzip Mallet\n",
        "!wget http://mallet.cs.umass.edu/dist/mallet-2.0.8.zip\n",
        "!unzip mallet-2.0.8.zip\n",
        "\n",
        "# Assuming 'mallet-2.0.8' is the extracted folder name\n",
        "mallet_path = 'mallet-2.0.8/bin/mallet'  # Update with the correct path to your Mallet binary\n",
        "\n",
        "# Import necessary libraries\n",
        "from gensim.models.wrappers import LdaMallet\n",
        "import operator\n",
        "\n",
        "# Initialize LdaMallet with your corpus (v) and dictionary (d)\n",
        "ldamallet = LdaMallet(mallet_path, corpus=v, num_topics=8, id2word=d)\n",
        "\n",
        "# Map the reviews data to the model\n",
        "m = ldamallet[v[0:len(v)]]\n",
        "\n",
        "# Assign topic to each review\n",
        "topic = []\n",
        "for x in m:\n",
        "    # Find the topic with the highest proportions\n",
        "    t = max(x, key=operator.itemgetter(1))\n",
        "    topic.append(t[0])\n",
        "\n",
        "# Output the assigned topics\n",
        "print(topic)\n",
        "\n",
        "topic = []\n",
        "for i, x in enumerate(m):\n",
        "    # Find the topic with the highest proportions\n",
        "    t = max(x, key=operator.itemgetter(1))\n",
        "    topic.append(t[0])\n",
        "    if i % 1000 == 0:\n",
        "        print(f\"Processed {i} documents\")"
      ]
    },
    {
      "cell_type": "code",
      "execution_count": 1,
      "metadata": {
        "id": "YWaZYgGJum2N",
        "colab": {
          "base_uri": "https://localhost:8080/"
        },
        "outputId": "4a2664dd-b347-44e8-9256-e79440675e56"
      },
      "outputs": [
        {
          "output_type": "stream",
          "name": "stdout",
          "text": [
            "Collecting pyLDAvis\n",
            "  Downloading pyLDAvis-3.4.1-py3-none-any.whl.metadata (4.2 kB)\n",
            "Requirement already satisfied: numpy>=1.24.2 in /usr/local/lib/python3.10/dist-packages (from pyLDAvis) (1.26.4)\n",
            "Requirement already satisfied: scipy in /usr/local/lib/python3.10/dist-packages (from pyLDAvis) (1.13.1)\n",
            "Requirement already satisfied: pandas>=2.0.0 in /usr/local/lib/python3.10/dist-packages (from pyLDAvis) (2.1.4)\n",
            "Requirement already satisfied: joblib>=1.2.0 in /usr/local/lib/python3.10/dist-packages (from pyLDAvis) (1.4.2)\n",
            "Requirement already satisfied: jinja2 in /usr/local/lib/python3.10/dist-packages (from pyLDAvis) (3.1.4)\n",
            "Requirement already satisfied: numexpr in /usr/local/lib/python3.10/dist-packages (from pyLDAvis) (2.10.1)\n",
            "Collecting funcy (from pyLDAvis)\n",
            "  Downloading funcy-2.0-py2.py3-none-any.whl.metadata (5.9 kB)\n",
            "Requirement already satisfied: scikit-learn>=1.0.0 in /usr/local/lib/python3.10/dist-packages (from pyLDAvis) (1.5.2)\n",
            "Requirement already satisfied: gensim in /usr/local/lib/python3.10/dist-packages (from pyLDAvis) (4.3.3)\n",
            "Requirement already satisfied: setuptools in /usr/local/lib/python3.10/dist-packages (from pyLDAvis) (71.0.4)\n",
            "Requirement already satisfied: python-dateutil>=2.8.2 in /usr/local/lib/python3.10/dist-packages (from pandas>=2.0.0->pyLDAvis) (2.8.2)\n",
            "Requirement already satisfied: pytz>=2020.1 in /usr/local/lib/python3.10/dist-packages (from pandas>=2.0.0->pyLDAvis) (2024.2)\n",
            "Requirement already satisfied: tzdata>=2022.1 in /usr/local/lib/python3.10/dist-packages (from pandas>=2.0.0->pyLDAvis) (2024.1)\n",
            "Requirement already satisfied: threadpoolctl>=3.1.0 in /usr/local/lib/python3.10/dist-packages (from scikit-learn>=1.0.0->pyLDAvis) (3.5.0)\n",
            "Requirement already satisfied: smart-open>=1.8.1 in /usr/local/lib/python3.10/dist-packages (from gensim->pyLDAvis) (7.0.4)\n",
            "Requirement already satisfied: MarkupSafe>=2.0 in /usr/local/lib/python3.10/dist-packages (from jinja2->pyLDAvis) (2.1.5)\n",
            "Requirement already satisfied: six>=1.5 in /usr/local/lib/python3.10/dist-packages (from python-dateutil>=2.8.2->pandas>=2.0.0->pyLDAvis) (1.16.0)\n",
            "Requirement already satisfied: wrapt in /usr/local/lib/python3.10/dist-packages (from smart-open>=1.8.1->gensim->pyLDAvis) (1.16.0)\n",
            "Downloading pyLDAvis-3.4.1-py3-none-any.whl (2.6 MB)\n",
            "\u001b[2K   \u001b[90m━━━━━━━━━━━━━━━━━━━━━━━━━━━━━━━━━━━━━━━━\u001b[0m \u001b[32m2.6/2.6 MB\u001b[0m \u001b[31m7.3 MB/s\u001b[0m eta \u001b[36m0:00:00\u001b[0m\n",
            "\u001b[?25hDownloading funcy-2.0-py2.py3-none-any.whl (30 kB)\n",
            "Installing collected packages: funcy, pyLDAvis\n",
            "Successfully installed funcy-2.0 pyLDAvis-3.4.1\n"
          ]
        }
      ],
      "source": [
        "!pip install pyLDAvis"
      ]
    },
    {
      "cell_type": "code",
      "execution_count": 2,
      "metadata": {
        "id": "Lcv1lqrB7ZMb",
        "colab": {
          "base_uri": "https://localhost:8080/",
          "height": 211
        },
        "outputId": "688a0e08-0c28-47ea-9477-f19cadcfab70"
      },
      "outputs": [
        {
          "output_type": "error",
          "ename": "NameError",
          "evalue": "name 'ldamodel' is not defined",
          "traceback": [
            "\u001b[0;31m---------------------------------------------------------------------------\u001b[0m",
            "\u001b[0;31mNameError\u001b[0m                                 Traceback (most recent call last)",
            "\u001b[0;32m<ipython-input-2-4bcadb9b4301>\u001b[0m in \u001b[0;36m<cell line: 4>\u001b[0;34m()\u001b[0m\n\u001b[1;32m      2\u001b[0m \u001b[0;34m\u001b[0m\u001b[0m\n\u001b[1;32m      3\u001b[0m \u001b[0;31m# Prepare data for visualization\u001b[0m\u001b[0;34m\u001b[0m\u001b[0;34m\u001b[0m\u001b[0m\n\u001b[0;32m----> 4\u001b[0;31m \u001b[0mvis_data\u001b[0m \u001b[0;34m=\u001b[0m \u001b[0mpyLDAvis\u001b[0m\u001b[0;34m.\u001b[0m\u001b[0mgensim_models\u001b[0m\u001b[0;34m.\u001b[0m\u001b[0mprepare\u001b[0m\u001b[0;34m(\u001b[0m\u001b[0mldamodel\u001b[0m\u001b[0;34m,\u001b[0m \u001b[0mcorpus\u001b[0m\u001b[0;34m,\u001b[0m \u001b[0mdictionary\u001b[0m\u001b[0;34m)\u001b[0m\u001b[0;34m\u001b[0m\u001b[0;34m\u001b[0m\u001b[0m\n\u001b[0m\u001b[1;32m      5\u001b[0m \u001b[0;34m\u001b[0m\u001b[0m\n\u001b[1;32m      6\u001b[0m \u001b[0;31m# Visualize\u001b[0m\u001b[0;34m\u001b[0m\u001b[0;34m\u001b[0m\u001b[0m\n",
            "\u001b[0;31mNameError\u001b[0m: name 'ldamodel' is not defined"
          ]
        }
      ],
      "source": [
        "import pyLDAvis.gensim_models\n",
        "\n",
        "# Prepare data for visualization\n",
        "vis_data = pyLDAvis.gensim_models.prepare(ldamodel, corpus, dictionary)\n",
        "\n",
        "# Visualize\n",
        "pyLDAvis.display(vis_data)"
      ]
    },
    {
      "cell_type": "code",
      "execution_count": null,
      "metadata": {
        "id": "AB_3q_R2r1CQ"
      },
      "outputs": [],
      "source": []
    }
  ],
  "metadata": {
    "colab": {
      "provenance": [],
      "authorship_tag": "ABX9TyM954VIs16w5W6QQ4d/wAkK",
      "include_colab_link": true
    },
    "kernelspec": {
      "display_name": "Python 3",
      "name": "python3"
    },
    "language_info": {
      "name": "python"
    }
  },
  "nbformat": 4,
  "nbformat_minor": 0
}