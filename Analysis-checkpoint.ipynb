{
 "cells": [
  {
   "cell_type": "markdown",
   "id": "767f6d07-c7ad-4d0f-8927-46209d1dfb58",
   "metadata": {},
   "source": [
    "### Lets create cvs files from JSON data downloaded from Yelp daset"
   ]
  },
  {
   "cell_type": "code",
   "execution_count": 6,
   "id": "1096dfda-f424-4dc6-b4f3-a521334d197c",
   "metadata": {},
   "outputs": [],
   "source": [
    "import pandas as pd\n",
    "import matplotlib.pyplot as plt\n",
    "import numpy as np\n",
    "import statsmodels.api as sm"
   ]
  },
  {
   "cell_type": "code",
   "execution_count": 8,
   "id": "e2074562-56c2-4877-a1bb-3d5b5846efa8",
   "metadata": {},
   "outputs": [
    {
     "name": "stderr",
     "output_type": "stream",
     "text": [
      "[nltk_data] Downloading package punkt to\n",
      "[nltk_data]     C:\\Users\\rashm\\AppData\\Roaming\\nltk_data...\n",
      "[nltk_data]   Package punkt is already up-to-date!\n",
      "[nltk_data] Downloading package vader_lexicon to\n",
      "[nltk_data]     C:\\Users\\rashm\\AppData\\Roaming\\nltk_data...\n",
      "[nltk_data]   Package vader_lexicon is already up-to-date!\n"
     ]
    },
    {
     "data": {
      "text/plain": [
       "True"
      ]
     },
     "execution_count": 8,
     "metadata": {},
     "output_type": "execute_result"
    }
   ],
   "source": [
    "import nltk\n",
    "from nltk.tokenize import RegexpTokenizer\n",
    "from nltk.corpus import stopwords\n",
    "nltk.download('punkt')\n",
    "nltk.download(\"vader_lexicon\")"
   ]
  },
  {
   "cell_type": "code",
   "execution_count": 10,
   "id": "24287825-c730-4c5c-8d4e-8a507161e855",
   "metadata": {},
   "outputs": [],
   "source": [
    "df_tip = pd.read_json(\"yelp_academic_dataset_tip.json\", lines = True)"
   ]
  },
  {
   "cell_type": "code",
   "execution_count": 11,
   "id": "6ea267e0-8b3b-4aea-8182-b2243c72247d",
   "metadata": {},
   "outputs": [
    {
     "data": {
      "text/html": [
       "<div>\n",
       "<style scoped>\n",
       "    .dataframe tbody tr th:only-of-type {\n",
       "        vertical-align: middle;\n",
       "    }\n",
       "\n",
       "    .dataframe tbody tr th {\n",
       "        vertical-align: top;\n",
       "    }\n",
       "\n",
       "    .dataframe thead th {\n",
       "        text-align: right;\n",
       "    }\n",
       "</style>\n",
       "<table border=\"1\" class=\"dataframe\">\n",
       "  <thead>\n",
       "    <tr style=\"text-align: right;\">\n",
       "      <th></th>\n",
       "      <th>user_id</th>\n",
       "      <th>business_id</th>\n",
       "      <th>text</th>\n",
       "      <th>date</th>\n",
       "      <th>compliment_count</th>\n",
       "    </tr>\n",
       "  </thead>\n",
       "  <tbody>\n",
       "    <tr>\n",
       "      <th>0</th>\n",
       "      <td>AGNUgVwnZUey3gcPCJ76iw</td>\n",
       "      <td>3uLgwr0qeCNMjKenHJwPGQ</td>\n",
       "      <td>Avengers time with the ladies.</td>\n",
       "      <td>2012-05-18 02:17:21</td>\n",
       "      <td>0</td>\n",
       "    </tr>\n",
       "    <tr>\n",
       "      <th>1</th>\n",
       "      <td>NBN4MgHP9D3cw--SnauTkA</td>\n",
       "      <td>QoezRbYQncpRqyrLH6Iqjg</td>\n",
       "      <td>They have lots of good deserts and tasty cuban...</td>\n",
       "      <td>2013-02-05 18:35:10</td>\n",
       "      <td>0</td>\n",
       "    </tr>\n",
       "    <tr>\n",
       "      <th>2</th>\n",
       "      <td>-copOvldyKh1qr-vzkDEvw</td>\n",
       "      <td>MYoRNLb5chwjQe3c_k37Gg</td>\n",
       "      <td>It's open even when you think it isn't</td>\n",
       "      <td>2013-08-18 00:56:08</td>\n",
       "      <td>0</td>\n",
       "    </tr>\n",
       "    <tr>\n",
       "      <th>3</th>\n",
       "      <td>FjMQVZjSqY8syIO-53KFKw</td>\n",
       "      <td>hV-bABTK-glh5wj31ps_Jw</td>\n",
       "      <td>Very decent fried chicken</td>\n",
       "      <td>2017-06-27 23:05:38</td>\n",
       "      <td>0</td>\n",
       "    </tr>\n",
       "    <tr>\n",
       "      <th>4</th>\n",
       "      <td>ld0AperBXk1h6UbqmM80zw</td>\n",
       "      <td>_uN0OudeJ3Zl_tf6nxg5ww</td>\n",
       "      <td>Appetizers.. platter special for lunch</td>\n",
       "      <td>2012-10-06 19:43:09</td>\n",
       "      <td>0</td>\n",
       "    </tr>\n",
       "    <tr>\n",
       "      <th>...</th>\n",
       "      <td>...</td>\n",
       "      <td>...</td>\n",
       "      <td>...</td>\n",
       "      <td>...</td>\n",
       "      <td>...</td>\n",
       "    </tr>\n",
       "    <tr>\n",
       "      <th>908910</th>\n",
       "      <td>eYodOTF8pkqKPzHkcxZs-Q</td>\n",
       "      <td>3lHTewuKFt5IImbXJoFeDQ</td>\n",
       "      <td>Disappointed in one of your managers.</td>\n",
       "      <td>2021-09-11 19:18:57</td>\n",
       "      <td>0</td>\n",
       "    </tr>\n",
       "    <tr>\n",
       "      <th>908911</th>\n",
       "      <td>1uxtQAuJ2T5Xwa_wp7kUnA</td>\n",
       "      <td>OaGf0Dp56ARhQwIDT90w_g</td>\n",
       "      <td>Great food and service.</td>\n",
       "      <td>2021-10-30 11:54:36</td>\n",
       "      <td>0</td>\n",
       "    </tr>\n",
       "    <tr>\n",
       "      <th>908912</th>\n",
       "      <td>v48Spe6WEpqehsF2xQADpg</td>\n",
       "      <td>hYnMeAO77RGyTtIzUSKYzQ</td>\n",
       "      <td>Love their Cubans!!</td>\n",
       "      <td>2021-11-05 13:18:56</td>\n",
       "      <td>0</td>\n",
       "    </tr>\n",
       "    <tr>\n",
       "      <th>908913</th>\n",
       "      <td>ckqKGM2hl7I9Chp5IpAhkw</td>\n",
       "      <td>s2eyoTuJrcP7I_XyjdhUHQ</td>\n",
       "      <td>Great pizza great price</td>\n",
       "      <td>2021-11-20 16:11:44</td>\n",
       "      <td>0</td>\n",
       "    </tr>\n",
       "    <tr>\n",
       "      <th>908914</th>\n",
       "      <td>4tF1CWdMxvvwpUIgGsDygA</td>\n",
       "      <td>_cb1Vg1NIWry8UA0jyuXnQ</td>\n",
       "      <td>Food is good value but a bit hot!</td>\n",
       "      <td>2021-12-07 22:30:00</td>\n",
       "      <td>0</td>\n",
       "    </tr>\n",
       "  </tbody>\n",
       "</table>\n",
       "<p>908915 rows × 5 columns</p>\n",
       "</div>"
      ],
      "text/plain": [
       "                       user_id             business_id  \\\n",
       "0       AGNUgVwnZUey3gcPCJ76iw  3uLgwr0qeCNMjKenHJwPGQ   \n",
       "1       NBN4MgHP9D3cw--SnauTkA  QoezRbYQncpRqyrLH6Iqjg   \n",
       "2       -copOvldyKh1qr-vzkDEvw  MYoRNLb5chwjQe3c_k37Gg   \n",
       "3       FjMQVZjSqY8syIO-53KFKw  hV-bABTK-glh5wj31ps_Jw   \n",
       "4       ld0AperBXk1h6UbqmM80zw  _uN0OudeJ3Zl_tf6nxg5ww   \n",
       "...                        ...                     ...   \n",
       "908910  eYodOTF8pkqKPzHkcxZs-Q  3lHTewuKFt5IImbXJoFeDQ   \n",
       "908911  1uxtQAuJ2T5Xwa_wp7kUnA  OaGf0Dp56ARhQwIDT90w_g   \n",
       "908912  v48Spe6WEpqehsF2xQADpg  hYnMeAO77RGyTtIzUSKYzQ   \n",
       "908913  ckqKGM2hl7I9Chp5IpAhkw  s2eyoTuJrcP7I_XyjdhUHQ   \n",
       "908914  4tF1CWdMxvvwpUIgGsDygA  _cb1Vg1NIWry8UA0jyuXnQ   \n",
       "\n",
       "                                                     text                date  \\\n",
       "0                          Avengers time with the ladies. 2012-05-18 02:17:21   \n",
       "1       They have lots of good deserts and tasty cuban... 2013-02-05 18:35:10   \n",
       "2                  It's open even when you think it isn't 2013-08-18 00:56:08   \n",
       "3                               Very decent fried chicken 2017-06-27 23:05:38   \n",
       "4                  Appetizers.. platter special for lunch 2012-10-06 19:43:09   \n",
       "...                                                   ...                 ...   \n",
       "908910              Disappointed in one of your managers. 2021-09-11 19:18:57   \n",
       "908911                            Great food and service. 2021-10-30 11:54:36   \n",
       "908912                                Love their Cubans!! 2021-11-05 13:18:56   \n",
       "908913                            Great pizza great price 2021-11-20 16:11:44   \n",
       "908914                  Food is good value but a bit hot! 2021-12-07 22:30:00   \n",
       "\n",
       "        compliment_count  \n",
       "0                      0  \n",
       "1                      0  \n",
       "2                      0  \n",
       "3                      0  \n",
       "4                      0  \n",
       "...                  ...  \n",
       "908910                 0  \n",
       "908911                 0  \n",
       "908912                 0  \n",
       "908913                 0  \n",
       "908914                 0  \n",
       "\n",
       "[908915 rows x 5 columns]"
      ]
     },
     "execution_count": 11,
     "metadata": {},
     "output_type": "execute_result"
    }
   ],
   "source": [
    "df_tip"
   ]
  },
  {
   "cell_type": "code",
   "execution_count": 14,
   "id": "f7dbfe7a-aac0-40eb-a79c-61171b4cc55f",
   "metadata": {},
   "outputs": [],
   "source": [
    "#Save df_tip DataFrame as a CSV file\n",
    "\n",
    "df_tip.to_csv('df_tip.csv', index=False)"
   ]
  },
  {
   "cell_type": "code",
   "execution_count": null,
   "id": "b4da38e5-45e8-4fc2-96ff-f7299cdeb8d5",
   "metadata": {},
   "outputs": [],
   "source": []
  }
 ],
 "metadata": {
  "kernelspec": {
   "display_name": "Python 3 (ipykernel)",
   "language": "python",
   "name": "python3"
  },
  "language_info": {
   "codemirror_mode": {
    "name": "ipython",
    "version": 3
   },
   "file_extension": ".py",
   "mimetype": "text/x-python",
   "name": "python",
   "nbconvert_exporter": "python",
   "pygments_lexer": "ipython3",
   "version": "3.12.4"
  }
 },
 "nbformat": 4,
 "nbformat_minor": 5
}
