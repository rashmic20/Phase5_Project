{
  "nbformat": 4,
  "nbformat_minor": 0,
  "metadata": {
    "colab": {
      "provenance": [],
      "machine_shape": "hm",
      "gpuType": "L4",
      "authorship_tag": "ABX9TyONFsQIuiCYSONP7++fwJ9r",
      "include_colab_link": true
    },
    "kernelspec": {
      "name": "python3",
      "display_name": "Python 3"
    },
    "language_info": {
      "name": "python"
    },
    "accelerator": "GPU"
  },
  "cells": [
    {
      "cell_type": "markdown",
      "metadata": {
        "id": "view-in-github",
        "colab_type": "text"
      },
      "source": [
        "<a href=\"https://colab.research.google.com/github/rashmic20/Phase5_Project/blob/main/Vader_and_Topic_Modelling_LDA.ipynb\" target=\"_parent\"><img src=\"https://colab.research.google.com/assets/colab-badge.svg\" alt=\"Open In Colab\"/></a>"
      ]
    },
    {
      "cell_type": "markdown",
      "source": [],
      "metadata": {
        "id": "bxkfcFBxYPp-"
      }
    },
    {
      "cell_type": "code",
      "execution_count": null,
      "metadata": {
        "id": "ho-4-QZ_oSSM"
      },
      "outputs": [],
      "source": [
        "import pandas as pd"
      ]
    },
    {
      "cell_type": "code",
      "source": [
        "df = pd.read_csv('restaurant_reviews_cleaned.csv')"
      ],
      "metadata": {
        "id": "CvrfAmWvoo6Q"
      },
      "execution_count": null,
      "outputs": []
    },
    {
      "cell_type": "markdown",
      "source": [],
      "metadata": {
        "id": "_A6u-0E8ozwC"
      }
    },
    {
      "cell_type": "code",
      "source": [
        "# Group by state and count the number of reviews\n",
        "state_review_counts = df.groupby('state').size().reset_index(name='review_count')\n",
        "\n",
        "# Display the review counts per state\n",
        "print(state_review_counts)"
      ],
      "metadata": {
        "colab": {
          "base_uri": "https://localhost:8080/"
        },
        "id": "LO6dDJjDos_R",
        "outputId": "4a6f201b-3fc4-4926-da07-f295c950ffa1"
      },
      "execution_count": null,
      "outputs": [
        {
          "output_type": "stream",
          "name": "stdout",
          "text": [
            "   state  review_count\n",
            "0     AB            51\n",
            "1     AZ           306\n",
            "2     CA           257\n",
            "3     DE            50\n",
            "4     FL          1239\n",
            "5     ID           152\n",
            "6     IL            45\n",
            "7     IN           479\n",
            "8     LA           890\n",
            "9     MO           436\n",
            "10    NJ           252\n",
            "11    NV           293\n",
            "12    PA          1084\n",
            "13    TN           615\n"
          ]
        }
      ]
    },
    {
      "cell_type": "markdown",
      "source": [
        " Number of reviews per state"
      ],
      "metadata": {
        "id": "xaKyL2zpwzYJ"
      }
    },
    {
      "cell_type": "code",
      "source": [
        "import matplotlib.pyplot as plt\n",
        "import seaborn as sns\n",
        "\n",
        "# Sort the DataFrame by review_count in descending order\n",
        "state_review_counts = state_review_counts.sort_values(by='review_count', ascending=False).reset_index(drop=True)\n",
        "\n",
        "# Create a custom red palette where higher numbers are darker\n",
        "red_palette = sns.color_palette(\"Reds\", len(state_review_counts))\n",
        "red_palette.reverse()  # Reverse the palette to make higher numbers darker\n",
        "\n",
        "# Plotting the number of reviews per state in descending order with the custom red palette\n",
        "plt.figure(figsize=(6,4))\n",
        "sns.barplot(x='state', y='review_count', data=state_review_counts, palette=red_palette)\n",
        "plt.title('Number of Reviews per State (Descending Order)', fontsize=8)\n",
        "plt.xlabel('State', fontsize=14)\n",
        "plt.ylabel('Number of Reviews', fontsize=14)\n",
        "plt.xticks(rotation=90)\n",
        "\n",
        "# Annotate the top 3 states\n",
        "for i in range(3):\n",
        "    plt.text(i, state_review_counts['review_count'][i] + 5,\n",
        "             f'{state_review_counts[\"review_count\"][i]}',\n",
        "             color='black', ha=\"center\", fontsize=12, fontweight='bold')\n",
        "\n",
        "plt.show()\n"
      ],
      "metadata": {
        "colab": {
          "base_uri": "https://localhost:8080/",
          "height": 525
        },
        "id": "l-bSsUGKrYCT",
        "outputId": "6aece4ec-2e60-4daa-86a7-5653d27c5321"
      },
      "execution_count": null,
      "outputs": [
        {
          "output_type": "stream",
          "name": "stderr",
          "text": [
            "<ipython-input-7-78e72f1444d0>:13: FutureWarning: \n",
            "\n",
            "Passing `palette` without assigning `hue` is deprecated and will be removed in v0.14.0. Assign the `x` variable to `hue` and set `legend=False` for the same effect.\n",
            "\n",
            "  sns.barplot(x='state', y='review_count', data=state_review_counts, palette=red_palette)\n"
          ]
        },
        {
          "output_type": "display_data",
          "data": {
            "text/plain": [
              "<Figure size 600x400 with 1 Axes>"
            ],
            "image/png": "[encoded data removed]"
          },
          "metadata": {}
        }
      ]
    },
    {
      "cell_type": "code",
      "source": [
        "df['review_length'] = df['cleaned_text'].apply(len)\n",
        "plt.figure(figsize=(8, 4))\n",
        "plt.hist(df['review_length'], bins=50, color='red', alpha=0.7)\n",
        "plt.title('Distribution of Review Length')\n",
        "plt.xlabel('Review Length')\n",
        "plt.ylabel('Frequency')\n",
        "plt.show()"
      ],
      "metadata": {
        "colab": {
          "base_uri": "https://localhost:8080/",
          "height": 391
        },
        "id": "EjB0v7YV1Y2l",
        "outputId": "cc3dbe3f-6624-4704-8e8e-af85fc178eb6"
      },
      "execution_count": null,
      "outputs": [
        {
          "output_type": "error",
          "ename": "TypeError",
          "evalue": "object of type 'float' has no len()",
          "traceback": [
            "\u001b[0;31m---------------------------------------------------------------------------\u001b[0m",
            "\u001b[0;31mTypeError\u001b[0m                                 Traceback (most recent call last)",
            "\u001b[0;32m<ipython-input-10-9a278733c67d>\u001b[0m in \u001b[0;36m<cell line: 1>\u001b[0;34m()\u001b[0m\n\u001b[0;32m----> 1\u001b[0;31m \u001b[0mdf\u001b[0m\u001b[0;34m[\u001b[0m\u001b[0;34m'review_length'\u001b[0m\u001b[0;34m]\u001b[0m \u001b[0;34m=\u001b[0m \u001b[0mdf\u001b[0m\u001b[0;34m[\u001b[0m\u001b[0;34m'cleaned_text'\u001b[0m\u001b[0;34m]\u001b[0m\u001b[0;34m.\u001b[0m\u001b[0mapply\u001b[0m\u001b[0;34m(\u001b[0m\u001b[0mlen\u001b[0m\u001b[0;34m)\u001b[0m\u001b[0;34m\u001b[0m\u001b[0;34m\u001b[0m\u001b[0m\n\u001b[0m\u001b[1;32m      2\u001b[0m \u001b[0mplt\u001b[0m\u001b[0;34m.\u001b[0m\u001b[0mfigure\u001b[0m\u001b[0;34m(\u001b[0m\u001b[0mfigsize\u001b[0m\u001b[0;34m=\u001b[0m\u001b[0;34m(\u001b[0m\u001b[0;36m8\u001b[0m\u001b[0;34m,\u001b[0m \u001b[0;36m4\u001b[0m\u001b[0;34m)\u001b[0m\u001b[0;34m)\u001b[0m\u001b[0;34m\u001b[0m\u001b[0;34m\u001b[0m\u001b[0m\n\u001b[1;32m      3\u001b[0m \u001b[0mplt\u001b[0m\u001b[0;34m.\u001b[0m\u001b[0mhist\u001b[0m\u001b[0;34m(\u001b[0m\u001b[0mdf\u001b[0m\u001b[0;34m[\u001b[0m\u001b[0;34m'review_length'\u001b[0m\u001b[0;34m]\u001b[0m\u001b[0;34m,\u001b[0m \u001b[0mbins\u001b[0m\u001b[0;34m=\u001b[0m\u001b[0;36m50\u001b[0m\u001b[0;34m,\u001b[0m \u001b[0mcolor\u001b[0m\u001b[0;34m=\u001b[0m\u001b[0;34m'red'\u001b[0m\u001b[0;34m,\u001b[0m \u001b[0malpha\u001b[0m\u001b[0;34m=\u001b[0m\u001b[0;36m0.7\u001b[0m\u001b[0;34m)\u001b[0m\u001b[0;34m\u001b[0m\u001b[0;34m\u001b[0m\u001b[0m\n\u001b[1;32m      4\u001b[0m \u001b[0mplt\u001b[0m\u001b[0;34m.\u001b[0m\u001b[0mtitle\u001b[0m\u001b[0;34m(\u001b[0m\u001b[0;34m'Distribution of Review Length'\u001b[0m\u001b[0;34m)\u001b[0m\u001b[0;34m\u001b[0m\u001b[0;34m\u001b[0m\u001b[0m\n\u001b[1;32m      5\u001b[0m \u001b[0mplt\u001b[0m\u001b[0;34m.\u001b[0m\u001b[0mxlabel\u001b[0m\u001b[0;34m(\u001b[0m\u001b[0;34m'Review Length'\u001b[0m\u001b[0;34m)\u001b[0m\u001b[0;34m\u001b[0m\u001b[0;34m\u001b[0m\u001b[0m\n",
            "\u001b[0;32m/usr/local/lib/python3.10/dist-packages/pandas/core/series.py\u001b[0m in \u001b[0;36mapply\u001b[0;34m(self, func, convert_dtype, args, by_row, **kwargs)\u001b[0m\n\u001b[1;32m   4762\u001b[0m             \u001b[0margs\u001b[0m\u001b[0;34m=\u001b[0m\u001b[0margs\u001b[0m\u001b[0;34m,\u001b[0m\u001b[0;34m\u001b[0m\u001b[0;34m\u001b[0m\u001b[0m\n\u001b[1;32m   4763\u001b[0m             \u001b[0mkwargs\u001b[0m\u001b[0;34m=\u001b[0m\u001b[0mkwargs\u001b[0m\u001b[0;34m,\u001b[0m\u001b[0;34m\u001b[0m\u001b[0;34m\u001b[0m\u001b[0m\n\u001b[0;32m-> 4764\u001b[0;31m         ).apply()\n\u001b[0m\u001b[1;32m   4765\u001b[0m \u001b[0;34m\u001b[0m\u001b[0m\n\u001b[1;32m   4766\u001b[0m     def _reindex_indexer(\n",
            "\u001b[0;32m/usr/local/lib/python3.10/dist-packages/pandas/core/apply.py\u001b[0m in \u001b[0;36mapply\u001b[0;34m(self)\u001b[0m\n\u001b[1;32m   1207\u001b[0m \u001b[0;34m\u001b[0m\u001b[0m\n\u001b[1;32m   1208\u001b[0m         \u001b[0;31m# self.func is Callable\u001b[0m\u001b[0;34m\u001b[0m\u001b[0;34m\u001b[0m\u001b[0m\n\u001b[0;32m-> 1209\u001b[0;31m         \u001b[0;32mreturn\u001b[0m \u001b[0mself\u001b[0m\u001b[0;34m.\u001b[0m\u001b[0mapply_standard\u001b[0m\u001b[0;34m(\u001b[0m\u001b[0;34m)\u001b[0m\u001b[0;34m\u001b[0m\u001b[0;34m\u001b[0m\u001b[0m\n\u001b[0m\u001b[1;32m   1210\u001b[0m \u001b[0;34m\u001b[0m\u001b[0m\n\u001b[1;32m   1211\u001b[0m     \u001b[0;32mdef\u001b[0m \u001b[0magg\u001b[0m\u001b[0;34m(\u001b[0m\u001b[0mself\u001b[0m\u001b[0;34m)\u001b[0m\u001b[0;34m:\u001b[0m\u001b[0;34m\u001b[0m\u001b[0;34m\u001b[0m\u001b[0m\n",
            "\u001b[0;32m/usr/local/lib/python3.10/dist-packages/pandas/core/apply.py\u001b[0m in \u001b[0;36mapply_standard\u001b[0;34m(self)\u001b[0m\n\u001b[1;32m   1287\u001b[0m         \u001b[0;31m#  Categorical (GH51645).\u001b[0m\u001b[0;34m\u001b[0m\u001b[0;34m\u001b[0m\u001b[0m\n\u001b[1;32m   1288\u001b[0m         \u001b[0maction\u001b[0m \u001b[0;34m=\u001b[0m \u001b[0;34m\"ignore\"\u001b[0m \u001b[0;32mif\u001b[0m \u001b[0misinstance\u001b[0m\u001b[0;34m(\u001b[0m\u001b[0mobj\u001b[0m\u001b[0;34m.\u001b[0m\u001b[0mdtype\u001b[0m\u001b[0;34m,\u001b[0m \u001b[0mCategoricalDtype\u001b[0m\u001b[0;34m)\u001b[0m \u001b[0;32melse\u001b[0m \u001b[0;32mNone\u001b[0m\u001b[0;34m\u001b[0m\u001b[0;34m\u001b[0m\u001b[0m\n\u001b[0;32m-> 1289\u001b[0;31m         mapped = obj._map_values(\n\u001b[0m\u001b[1;32m   1290\u001b[0m             \u001b[0mmapper\u001b[0m\u001b[0;34m=\u001b[0m\u001b[0mcurried\u001b[0m\u001b[0;34m,\u001b[0m \u001b[0mna_action\u001b[0m\u001b[0;34m=\u001b[0m\u001b[0maction\u001b[0m\u001b[0;34m,\u001b[0m \u001b[0mconvert\u001b[0m\u001b[0;34m=\u001b[0m\u001b[0mself\u001b[0m\u001b[0;34m.\u001b[0m\u001b[0mconvert_dtype\u001b[0m\u001b[0;34m\u001b[0m\u001b[0;34m\u001b[0m\u001b[0m\n\u001b[1;32m   1291\u001b[0m         )\n",
            "\u001b[0;32m/usr/local/lib/python3.10/dist-packages/pandas/core/base.py\u001b[0m in \u001b[0;36m_map_values\u001b[0;34m(self, mapper, na_action, convert)\u001b[0m\n\u001b[1;32m    919\u001b[0m             \u001b[0;32mreturn\u001b[0m \u001b[0marr\u001b[0m\u001b[0;34m.\u001b[0m\u001b[0mmap\u001b[0m\u001b[0;34m(\u001b[0m\u001b[0mmapper\u001b[0m\u001b[0;34m,\u001b[0m \u001b[0mna_action\u001b[0m\u001b[0;34m=\u001b[0m\u001b[0mna_action\u001b[0m\u001b[0;34m)\u001b[0m\u001b[0;34m\u001b[0m\u001b[0;34m\u001b[0m\u001b[0m\n\u001b[1;32m    920\u001b[0m \u001b[0;34m\u001b[0m\u001b[0m\n\u001b[0;32m--> 921\u001b[0;31m         \u001b[0;32mreturn\u001b[0m \u001b[0malgorithms\u001b[0m\u001b[0;34m.\u001b[0m\u001b[0mmap_array\u001b[0m\u001b[0;34m(\u001b[0m\u001b[0marr\u001b[0m\u001b[0;34m,\u001b[0m \u001b[0mmapper\u001b[0m\u001b[0;34m,\u001b[0m \u001b[0mna_action\u001b[0m\u001b[0;34m=\u001b[0m\u001b[0mna_action\u001b[0m\u001b[0;34m,\u001b[0m \u001b[0mconvert\u001b[0m\u001b[0;34m=\u001b[0m\u001b[0mconvert\u001b[0m\u001b[0;34m)\u001b[0m\u001b[0;34m\u001b[0m\u001b[0;34m\u001b[0m\u001b[0m\n\u001b[0m\u001b[1;32m    922\u001b[0m \u001b[0;34m\u001b[0m\u001b[0m\n\u001b[1;32m    923\u001b[0m     \u001b[0;34m@\u001b[0m\u001b[0mfinal\u001b[0m\u001b[0;34m\u001b[0m\u001b[0;34m\u001b[0m\u001b[0m\n",
            "\u001b[0;32m/usr/local/lib/python3.10/dist-packages/pandas/core/algorithms.py\u001b[0m in \u001b[0;36mmap_array\u001b[0;34m(arr, mapper, na_action, convert)\u001b[0m\n\u001b[1;32m   1812\u001b[0m     \u001b[0mvalues\u001b[0m \u001b[0;34m=\u001b[0m \u001b[0marr\u001b[0m\u001b[0;34m.\u001b[0m\u001b[0mastype\u001b[0m\u001b[0;34m(\u001b[0m\u001b[0mobject\u001b[0m\u001b[0;34m,\u001b[0m \u001b[0mcopy\u001b[0m\u001b[0;34m=\u001b[0m\u001b[0;32mFalse\u001b[0m\u001b[0;34m)\u001b[0m\u001b[0;34m\u001b[0m\u001b[0;34m\u001b[0m\u001b[0m\n\u001b[1;32m   1813\u001b[0m     \u001b[0;32mif\u001b[0m \u001b[0mna_action\u001b[0m \u001b[0;32mis\u001b[0m \u001b[0;32mNone\u001b[0m\u001b[0;34m:\u001b[0m\u001b[0;34m\u001b[0m\u001b[0;34m\u001b[0m\u001b[0m\n\u001b[0;32m-> 1814\u001b[0;31m         \u001b[0;32mreturn\u001b[0m \u001b[0mlib\u001b[0m\u001b[0;34m.\u001b[0m\u001b[0mmap_infer\u001b[0m\u001b[0;34m(\u001b[0m\u001b[0mvalues\u001b[0m\u001b[0;34m,\u001b[0m \u001b[0mmapper\u001b[0m\u001b[0;34m,\u001b[0m \u001b[0mconvert\u001b[0m\u001b[0;34m=\u001b[0m\u001b[0mconvert\u001b[0m\u001b[0;34m)\u001b[0m\u001b[0;34m\u001b[0m\u001b[0;34m\u001b[0m\u001b[0m\n\u001b[0m\u001b[1;32m   1815\u001b[0m     \u001b[0;32melse\u001b[0m\u001b[0;34m:\u001b[0m\u001b[0;34m\u001b[0m\u001b[0;34m\u001b[0m\u001b[0m\n\u001b[1;32m   1816\u001b[0m         return lib.map_infer_mask(\n",
            "\u001b[0;32mlib.pyx\u001b[0m in \u001b[0;36mpandas._libs.lib.map_infer\u001b[0;34m()\u001b[0m\n",
            "\u001b[0;31mTypeError\u001b[0m: object of type 'float' has no len()"
          ]
        }
      ]
    },
    {
      "cell_type": "markdown",
      "source": [
        "Let's filter dataset for reviews from the states of Florida (FL)."
      ],
      "metadata": {
        "id": "e5LNgEx2PiZT"
      }
    },
    {
      "cell_type": "code",
      "source": [
        "# Filter for reviews in FL\n",
        "filtered_df = df[df['state'].isin(['FL'])]\n"
      ],
      "metadata": {
        "id": "p64zOm-Guwia"
      },
      "execution_count": null,
      "outputs": []
    },
    {
      "cell_type": "code",
      "source": [
        "filtered_df.info()"
      ],
      "metadata": {
        "colab": {
          "base_uri": "https://localhost:8080/"
        },
        "id": "wKZ6vwVwu2pC",
        "outputId": "0f5e1942-2872-4ad2-c6fa-c506f74bc7b3"
      },
      "execution_count": null,
      "outputs": [
        {
          "output_type": "stream",
          "name": "stdout",
          "text": [
            "<class 'pandas.core.frame.DataFrame'>\n",
            "Index: 1239 entries, 2 to 6148\n",
            "Data columns (total 16 columns):\n",
            " #   Column        Non-Null Count  Dtype  \n",
            "---  ------        --------------  -----  \n",
            " 0   review_id     1239 non-null   object \n",
            " 1   user_id       1239 non-null   object \n",
            " 2   business_id   1239 non-null   object \n",
            " 3   stars_x       1239 non-null   float64\n",
            " 4   date          1239 non-null   object \n",
            " 5   name          1239 non-null   object \n",
            " 6   city          1239 non-null   object \n",
            " 7   state         1239 non-null   object \n",
            " 8   postal_code   1239 non-null   object \n",
            " 9   latitude      1239 non-null   float64\n",
            " 10  longitude     1239 non-null   float64\n",
            " 11  stars_y       1239 non-null   float64\n",
            " 12  review_count  1239 non-null   float64\n",
            " 13  categories    1239 non-null   object \n",
            " 14  cleaned_text  1239 non-null   object \n",
            " 15  sentiment     1239 non-null   float64\n",
            "dtypes: float64(6), object(10)\n",
            "memory usage: 164.6+ KB\n"
          ]
        }
      ]
    },
    {
      "cell_type": "code",
      "source": [
        "filtered_df.head(3)"
      ],
      "metadata": {
        "colab": {
          "base_uri": "https://localhost:8080/",
          "height": 389
        },
        "id": "9lKsCsrbMc8-",
        "outputId": "787d4b36-cb82-4d82-9272-391f09906f84"
      },
      "execution_count": null,
      "outputs": [
        {
          "output_type": "execute_result",
          "data": {
            "text/plain": [
              "                review_id                 user_id             business_id  \\\n",
              "2  U8_ehvGLQzTK9drgHKObbA  OozcBexcgIKztqL49n8KxQ  _k8qEyZjGsGaCAtN_5EYSw   \n",
              "5  nJL9JjmwFZ0JZyKTHiBq4Q  sDTUZlTkV99_AMRfch3A5Q  XV-jiJ6yb0LXlh4EyEWbqQ   \n",
              "8  xZqAdOML_vUoe2Jva1XEXg  _vV7CWVtVbYaHH7HT2EUvA  6vWKezveJpsWgjl5Cd3l-g   \n",
              "\n",
              "   stars_x                 date                                          name  \\\n",
              "2      5.0  2019-09-30 16:14:24                        Tropical Smoothie Cafe   \n",
              "5      1.0  2019-09-27 04:22:48  Joey's New York Pizza and Italian Restaurant   \n",
              "8      5.0  2019-09-27 19:43:16                    Pal Campo Restaurant Tampa   \n",
              "\n",
              "          city state postal_code   latitude  longitude  stars_y  review_count  \\\n",
              "2         Lutz    FL       33559  28.186591 -82.424543      3.5          13.0   \n",
              "5  Palm Harbor    FL       34684  28.051185 -82.737053      3.5         183.0   \n",
              "8        Tampa    FL       33634  28.031686 -82.541086      3.0         164.0   \n",
              "\n",
              "                                          categories  \\\n",
              "2  Restaurants, Food, Sandwiches, Juice Bars & Sm...   \n",
              "5                        Italian, Pizza, Restaurants   \n",
              "8  Latin American, Puerto Rican, Caribbean, Resta...   \n",
              "\n",
              "                                        cleaned_text  sentiment  \n",
              "2  clean staff friendly fastwhoever made wrap mad...        1.0  \n",
              "5  tried place catering event rudely told lunch t...        0.0  \n",
              "8  attentive staff amazing authentic spanish food...        1.0  "
            ],
            "text/html": [
              "\n",
              "  <div id=\"df-586606ce-5fba-4265-bf88-d5c260531b43\" class=\"colab-df-container\">\n",
              "    <div>\n",
              "<style scoped>\n",
              "    .dataframe tbody tr th:only-of-type {\n",
              "        vertical-align: middle;\n",
              "    }\n",
              "\n",
              "    .dataframe tbody tr th {\n",
              "        vertical-align: top;\n",
              "    }\n",
              "\n",
              "    .dataframe thead th {\n",
              "        text-align: right;\n",
              "    }\n",
              "</style>\n",
              "<table border=\"1\" class=\"dataframe\">\n",
              "  <thead>\n",
              "    <tr style=\"text-align: right;\">\n",
              "      <th></th>\n",
              "      <th>review_id</th>\n",
              "      <th>user_id</th>\n",
              "      <th>business_id</th>\n",
              "      <th>stars_x</th>\n",
              "      <th>date</th>\n",
              "      <th>name</th>\n",
              "      <th>city</th>\n",
              "      <th>state</th>\n",
              "      <th>postal_code</th>\n",
              "      <th>latitude</th>\n",
              "      <th>longitude</th>\n",
              "      <th>stars_y</th>\n",
              "      <th>review_count</th>\n",
              "      <th>categories</th>\n",
              "      <th>cleaned_text</th>\n",
              "      <th>sentiment</th>\n",
              "    </tr>\n",
              "  </thead>\n",
              "  <tbody>\n",
              "    <tr>\n",
              "      <th>2</th>\n",
              "      <td>U8_ehvGLQzTK9drgHKObbA</td>\n",
              "      <td>OozcBexcgIKztqL49n8KxQ</td>\n",
              "      <td>_k8qEyZjGsGaCAtN_5EYSw</td>\n",
              "      <td>5.0</td>\n",
              "      <td>2019-09-30 16:14:24</td>\n",
              "      <td>Tropical Smoothie Cafe</td>\n",
              "      <td>Lutz</td>\n",
              "      <td>FL</td>\n",
              "      <td>33559</td>\n",
              "      <td>28.186591</td>\n",
              "      <td>-82.424543</td>\n",
              "      <td>3.5</td>\n",
              "      <td>13.0</td>\n",
              "      <td>Restaurants, Food, Sandwiches, Juice Bars &amp; Sm...</td>\n",
              "      <td>clean staff friendly fastwhoever made wrap mad...</td>\n",
              "      <td>1.0</td>\n",
              "    </tr>\n",
              "    <tr>\n",
              "      <th>5</th>\n",
              "      <td>nJL9JjmwFZ0JZyKTHiBq4Q</td>\n",
              "      <td>sDTUZlTkV99_AMRfch3A5Q</td>\n",
              "      <td>XV-jiJ6yb0LXlh4EyEWbqQ</td>\n",
              "      <td>1.0</td>\n",
              "      <td>2019-09-27 04:22:48</td>\n",
              "      <td>Joey's New York Pizza and Italian Restaurant</td>\n",
              "      <td>Palm Harbor</td>\n",
              "      <td>FL</td>\n",
              "      <td>34684</td>\n",
              "      <td>28.051185</td>\n",
              "      <td>-82.737053</td>\n",
              "      <td>3.5</td>\n",
              "      <td>183.0</td>\n",
              "      <td>Italian, Pizza, Restaurants</td>\n",
              "      <td>tried place catering event rudely told lunch t...</td>\n",
              "      <td>0.0</td>\n",
              "    </tr>\n",
              "    <tr>\n",
              "      <th>8</th>\n",
              "      <td>xZqAdOML_vUoe2Jva1XEXg</td>\n",
              "      <td>_vV7CWVtVbYaHH7HT2EUvA</td>\n",
              "      <td>6vWKezveJpsWgjl5Cd3l-g</td>\n",
              "      <td>5.0</td>\n",
              "      <td>2019-09-27 19:43:16</td>\n",
              "      <td>Pal Campo Restaurant Tampa</td>\n",
              "      <td>Tampa</td>\n",
              "      <td>FL</td>\n",
              "      <td>33634</td>\n",
              "      <td>28.031686</td>\n",
              "      <td>-82.541086</td>\n",
              "      <td>3.0</td>\n",
              "      <td>164.0</td>\n",
              "      <td>Latin American, Puerto Rican, Caribbean, Resta...</td>\n",
              "      <td>attentive staff amazing authentic spanish food...</td>\n",
              "      <td>1.0</td>\n",
              "    </tr>\n",
              "  </tbody>\n",
              "</table>\n",
              "</div>\n",
              "    <div class=\"colab-df-buttons\">\n",
              "\n",
              "  <div class=\"colab-df-container\">\n",
              "    <button class=\"colab-df-convert\" onclick=\"convertToInteractive('df-586606ce-5fba-4265-bf88-d5c260531b43')\"\n",
              "            title=\"Convert this dataframe to an interactive table.\"\n",
              "            style=\"display:none;\">\n",
              "\n",
              "  <svg xmlns=\"http://www.w3.org/2000/svg\" height=\"24px\" viewBox=\"0 -960 960 960\">\n",
              "    <path d=\"M120-120v-720h720v720H120Zm60-500h600v-160H180v160Zm220 220h160v-160H400v160Zm0 220h160v-160H400v160ZM180-400h160v-160H180v160Zm440 0h160v-160H620v160ZM180-180h160v-160H180v160Zm440 0h160v-160H620v160Z\"/>\n",
              "  </svg>\n",
              "    </button>\n",
              "\n",
              "  <style>\n",
              "    .colab-df-container {\n",
              "      display:flex;\n",
              "      gap: 12px;\n",
              "    }\n",
              "\n",
              "    .colab-df-convert {\n",
              "      background-color: #E8F0FE;\n",
              "      border: none;\n",
              "      border-radius: 50%;\n",
              "      cursor: pointer;\n",
              "      display: none;\n",
              "      fill: #1967D2;\n",
              "      height: 32px;\n",
              "      padding: 0 0 0 0;\n",
              "      width: 32px;\n",
              "    }\n",
              "\n",
              "    .colab-df-convert:hover {\n",
              "      background-color: #E2EBFA;\n",
              "      box-shadow: 0px 1px 2px rgba(60, 64, 67, 0.3), 0px 1px 3px 1px rgba(60, 64, 67, 0.15);\n",
              "      fill: #174EA6;\n",
              "    }\n",
              "\n",
              "    .colab-df-buttons div {\n",
              "      margin-bottom: 4px;\n",
              "    }\n",
              "\n",
              "    [theme=dark] .colab-df-convert {\n",
              "      background-color: #3B4455;\n",
              "      fill: #D2E3FC;\n",
              "    }\n",
              "\n",
              "    [theme=dark] .colab-df-convert:hover {\n",
              "      background-color: #434B5C;\n",
              "      box-shadow: 0px 1px 3px 1px rgba(0, 0, 0, 0.15);\n",
              "      filter: drop-shadow(0px 1px 2px rgba(0, 0, 0, 0.3));\n",
              "      fill: #FFFFFF;\n",
              "    }\n",
              "  </style>\n",
              "\n",
              "    <script>\n",
              "      const buttonEl =\n",
              "        document.querySelector('#df-586606ce-5fba-4265-bf88-d5c260531b43 button.colab-df-convert');\n",
              "      buttonEl.style.display =\n",
              "        google.colab.kernel.accessAllowed ? 'block' : 'none';\n",
              "\n",
              "      async function convertToInteractive(key) {\n",
              "        const element = document.querySelector('#df-586606ce-5fba-4265-bf88-d5c260531b43');\n",
              "        const dataTable =\n",
              "          await google.colab.kernel.invokeFunction('convertToInteractive',\n",
              "                                                    [key], {});\n",
              "        if (!dataTable) return;\n",
              "\n",
              "        const docLinkHtml = 'Like what you see? Visit the ' +\n",
              "          '<a target=\"_blank\" href=https://colab.research.google.com/notebooks/data_table.ipynb>data table notebook</a>'\n",
              "          + ' to learn more about interactive tables.';\n",
              "        element.innerHTML = '';\n",
              "        dataTable['output_type'] = 'display_data';\n",
              "        await google.colab.output.renderOutput(dataTable, element);\n",
              "        const docLink = document.createElement('div');\n",
              "        docLink.innerHTML = docLinkHtml;\n",
              "        element.appendChild(docLink);\n",
              "      }\n",
              "    </script>\n",
              "  </div>\n",
              "\n",
              "\n",
              "<div id=\"df-4bcfe890-5d35-4d71-b91c-abf09cb3e067\">\n",
              "  <button class=\"colab-df-quickchart\" onclick=\"quickchart('df-4bcfe890-5d35-4d71-b91c-abf09cb3e067')\"\n",
              "            title=\"Suggest charts\"\n",
              "            style=\"display:none;\">\n",
              "\n",
              "<svg xmlns=\"http://www.w3.org/2000/svg\" height=\"24px\"viewBox=\"0 0 24 24\"\n",
              "     width=\"24px\">\n",
              "    <g>\n",
              "        <path d=\"M19 3H5c-1.1 0-2 .9-2 2v14c0 1.1.9 2 2 2h14c1.1 0 2-.9 2-2V5c0-1.1-.9-2-2-2zM9 17H7v-7h2v7zm4 0h-2V7h2v10zm4 0h-2v-4h2v4z\"/>\n",
              "    </g>\n",
              "</svg>\n",
              "  </button>\n",
              "\n",
              "<style>\n",
              "  .colab-df-quickchart {\n",
              "      --bg-color: #E8F0FE;\n",
              "      --fill-color: #1967D2;\n",
              "      --hover-bg-color: #E2EBFA;\n",
              "      --hover-fill-color: #174EA6;\n",
              "      --disabled-fill-color: #AAA;\n",
              "      --disabled-bg-color: #DDD;\n",
              "  }\n",
              "\n",
              "  [theme=dark] .colab-df-quickchart {\n",
              "      --bg-color: #3B4455;\n",
              "      --fill-color: #D2E3FC;\n",
              "      --hover-bg-color: #434B5C;\n",
              "      --hover-fill-color: #FFFFFF;\n",
              "      --disabled-bg-color: #3B4455;\n",
              "      --disabled-fill-color: #666;\n",
              "  }\n",
              "\n",
              "  .colab-df-quickchart {\n",
              "    background-color: var(--bg-color);\n",
              "    border: none;\n",
              "    border-radius: 50%;\n",
              "    cursor: pointer;\n",
              "    display: none;\n",
              "    fill: var(--fill-color);\n",
              "    height: 32px;\n",
              "    padding: 0;\n",
              "    width: 32px;\n",
              "  }\n",
              "\n",
              "  .colab-df-quickchart:hover {\n",
              "    background-color: var(--hover-bg-color);\n",
              "    box-shadow: 0 1px 2px rgba(60, 64, 67, 0.3), 0 1px 3px 1px rgba(60, 64, 67, 0.15);\n",
              "    fill: var(--button-hover-fill-color);\n",
              "  }\n",
              "\n",
              "  .colab-df-quickchart-complete:disabled,\n",
              "  .colab-df-quickchart-complete:disabled:hover {\n",
              "    background-color: var(--disabled-bg-color);\n",
              "    fill: var(--disabled-fill-color);\n",
              "    box-shadow: none;\n",
              "  }\n",
              "\n",
              "  .colab-df-spinner {\n",
              "    border: 2px solid var(--fill-color);\n",
              "    border-color: transparent;\n",
              "    border-bottom-color: var(--fill-color);\n",
              "    animation:\n",
              "      spin 1s steps(1) infinite;\n",
              "  }\n",
              "\n",
              "  @keyframes spin {\n",
              "    0% {\n",
              "      border-color: transparent;\n",
              "      border-bottom-color: var(--fill-color);\n",
              "      border-left-color: var(--fill-color);\n",
              "    }\n",
              "    20% {\n",
              "      border-color: transparent;\n",
              "      border-left-color: var(--fill-color);\n",
              "      border-top-color: var(--fill-color);\n",
              "    }\n",
              "    30% {\n",
              "      border-color: transparent;\n",
              "      border-left-color: var(--fill-color);\n",
              "      border-top-color: var(--fill-color);\n",
              "      border-right-color: var(--fill-color);\n",
              "    }\n",
              "    40% {\n",
              "      border-color: transparent;\n",
              "      border-right-color: var(--fill-color);\n",
              "      border-top-color: var(--fill-color);\n",
              "    }\n",
              "    60% {\n",
              "      border-color: transparent;\n",
              "      border-right-color: var(--fill-color);\n",
              "    }\n",
              "    80% {\n",
              "      border-color: transparent;\n",
              "      border-right-color: var(--fill-color);\n",
              "      border-bottom-color: var(--fill-color);\n",
              "    }\n",
              "    90% {\n",
              "      border-color: transparent;\n",
              "      border-bottom-color: var(--fill-color);\n",
              "    }\n",
              "  }\n",
              "</style>\n",
              "\n",
              "  <script>\n",
              "    async function quickchart(key) {\n",
              "      const quickchartButtonEl =\n",
              "        document.querySelector('#' + key + ' button');\n",
              "      quickchartButtonEl.disabled = true;  // To prevent multiple clicks.\n",
              "      quickchartButtonEl.classList.add('colab-df-spinner');\n",
              "      try {\n",
              "        const charts = await google.colab.kernel.invokeFunction(\n",
              "            'suggestCharts', [key], {});\n",
              "      } catch (error) {\n",
              "        console.error('Error during call to suggestCharts:', error);\n",
              "      }\n",
              "      quickchartButtonEl.classList.remove('colab-df-spinner');\n",
              "      quickchartButtonEl.classList.add('colab-df-quickchart-complete');\n",
              "    }\n",
              "    (() => {\n",
              "      let quickchartButtonEl =\n",
              "        document.querySelector('#df-4bcfe890-5d35-4d71-b91c-abf09cb3e067 button');\n",
              "      quickchartButtonEl.style.display =\n",
              "        google.colab.kernel.accessAllowed ? 'block' : 'none';\n",
              "    })();\n",
              "  </script>\n",
              "</div>\n",
              "\n",
              "    </div>\n",
              "  </div>\n"
            ],
            "application/vnd.google.colaboratory.intrinsic+json": {
              "type": "dataframe",
              "variable_name": "filtered_df",
              "repr_error": "0"
            }
          },
          "metadata": {},
          "execution_count": 13
        }
      ]
    },
    {
      "cell_type": "code",
      "source": [
        "# Count the number of unique business_ids\n",
        "total_business_count = filtered_df['business_id'].nunique()\n",
        "\n",
        "# Display the result\n",
        "print(f\"Total number of unique businesses: {total_business_count}\")"
      ],
      "metadata": {
        "colab": {
          "base_uri": "https://localhost:8080/"
        },
        "id": "mQrRKWV7NG52",
        "outputId": "ec1bff43-9ea5-4a38-bc4c-17716606026d"
      },
      "execution_count": null,
      "outputs": [
        {
          "output_type": "stream",
          "name": "stdout",
          "text": [
            "Total number of unique businesses: 380\n"
          ]
        }
      ]
    },
    {
      "cell_type": "code",
      "source": [
        "# Step 1: Count the number of reviews for each business\n",
        "business_review_counts = filtered_df['business_id'].value_counts()\n",
        "\n",
        "# Step 2: Filter the businesses that have more than 100 reviews\n",
        "businesses_more_than_100 = business_review_counts[business_review_counts > 100].index\n",
        "\n",
        "# Step 3: Filter the original DataFrame to keep only those rows\n",
        "Cleaned_df = filtered_df[filtered_df['business_id'].isin(businesses_more_than_100)]\n",
        "# Check the filtered data\n",
        "print(f\"Number of businesses with more than 100 reviews: {len(businesses_more_than_100)}\")\n",
        "print(f\"Number of reviews in the filtered dataset: {filtered_df.shape[0]}\")"
      ],
      "metadata": {
        "colab": {
          "base_uri": "https://localhost:8080/"
        },
        "id": "gfO6hDVfOYy8",
        "outputId": "b471cf6e-46df-4aad-d61f-ef214a9c0fd9"
      },
      "execution_count": null,
      "outputs": [
        {
          "output_type": "stream",
          "name": "stdout",
          "text": [
            "Number of businesses with more than 100 reviews: 0\n",
            "Number of reviews in the filtered dataset: 1239\n"
          ]
        }
      ]
    },
    {
      "cell_type": "code",
      "source": [
        "# Save the cleaned DataFrame as a CSV file\n",
        "Cleaned_df.to_csv('filtered_reviews.csv', index=False)\n",
        "\n",
        "# The file will be saved in the current working directory\n",
        "print(\"Filtered DataFrame has been saved as 'filtered_reviews.csv'\")"
      ],
      "metadata": {
        "colab": {
          "base_uri": "https://localhost:8080/"
        },
        "id": "3-FwdhMgQ4_H",
        "outputId": "a0ebbfde-d37a-4dfa-93fa-72263ef479bf"
      },
      "execution_count": null,
      "outputs": [
        {
          "output_type": "stream",
          "name": "stdout",
          "text": [
            "Filtered DataFrame has been saved as 'filtered_reviews.csv'\n"
          ]
        }
      ]
    },
    {
      "cell_type": "code",
      "source": [
        "# Count the number of reviews (length of the 'stars_x' column) for each state\n",
        "review_counts = filtered_df.groupby('state')['stars_x'].count()\n",
        "\n",
        "# Display the number of reviews for each state\n",
        "print(review_counts)"
      ],
      "metadata": {
        "colab": {
          "base_uri": "https://localhost:8080/"
        },
        "id": "HYZhNOtPu6pZ",
        "outputId": "b1266736-3a4c-4874-80e2-3865629fef23"
      },
      "execution_count": null,
      "outputs": [
        {
          "output_type": "stream",
          "name": "stdout",
          "text": [
            "state\n",
            "FL    1239\n",
            "Name: stars_x, dtype: int64\n"
          ]
        }
      ]
    },
    {
      "cell_type": "code",
      "source": [
        "import nltk\n",
        "import gensim\n",
        "from gensim.utils import simple_preprocess\n",
        "from gensim.models.phrases import Phrases, Phraser\n",
        "from gensim.corpora import Dictionary\n",
        "from nltk.corpus import stopwords\n",
        "from nltk.stem import WordNetLemmatizer\n",
        "from nltk.corpus import wordnet\n",
        "import spacy\n",
        "import pandas as pd\n",
        "\n",
        "# Download NLTK stopwords if needed\n",
        "nltk.download('stopwords')\n",
        "\n",
        "# Load NLTK stopwords\n",
        "stop_words = stopwords.words('english')\n",
        "\n",
        "# Preprocess and tokenize the 'cleaned_text' column using simple_preprocess\n",
        "texts = [simple_preprocess(doc) for doc in filtered_df['cleaned_text']]\n",
        "\n",
        "# Function to remove stopwords\n",
        "def remove_stopwords(texts):\n",
        "    return [[word for word in simple_preprocess(str(doc)) if word not in stop_words] for doc in texts]\n",
        "\n",
        "# Remove stopwords\n",
        "texts_nostops = remove_stopwords(texts)\n",
        "\n",
        "# Create bigram and trigram models\n",
        "bigram = Phrases(texts_nostops, min_count=5, threshold=100)\n",
        "trigram = Phrases(bigram[texts_nostops], threshold=100)\n",
        "\n",
        "# Use Phraser for faster application of bigrams and trigrams\n",
        "bigram_mod = Phraser(bigram)\n",
        "trigram_mod = Phraser(trigram)\n",
        "\n",
        "# Function to create bigrams\n",
        "def make_bigrams(texts):\n",
        "    return [bigram_mod[doc] for doc in texts]\n",
        "\n",
        "# Function to create trigrams\n",
        "def make_trigrams(texts):\n",
        "    return [trigram_mod[bigram_mod[doc]] for doc in texts]\n",
        "\n",
        "# Form bigrams\n",
        "texts_bigrams = make_bigrams(texts_nostops)\n",
        "\n",
        "# Form trigrams\n",
        "texts_trigrams = make_trigrams(texts_bigrams)\n",
        "\n",
        "# Initialize spaCy 'en' model, keeping only tagger component (for lemmatization)\n",
        "nlp = spacy.load('en_core_web_sm', disable=['parser', 'ner'])\n",
        "\n",
        "# Function for lemmatization\n",
        "def lemmatization(texts, allowed_postags=['NOUN', 'ADJ', 'VERB', 'ADV']):\n",
        "    \"\"\"Lemmatize the words, keeping only nouns, adjectives, verbs, and adverbs\"\"\"\n",
        "    texts_out = []\n",
        "    for sent in texts:\n",
        "        doc = nlp(\" \".join(sent))\n",
        "        texts_out.append([token.lemma_ for token in doc if token.pos_ in allowed_postags])\n",
        "    return texts_out\n",
        "\n",
        "# Lemmatize keeping only nouns, adjectives, verbs, and adverbs\n",
        "texts_lemmatized = lemmatization(texts_trigrams)\n",
        "\n",
        "# Create a Gensim dictionary\n",
        "id2word = Dictionary(texts_lemmatized)\n",
        "\n",
        "# Filter out extremes to limit the number of features\n",
        "id2word.filter_extremes(no_below=1, no_above=0.5)\n",
        "\n",
        "# Create a corpus: Term Document Frequency (BoW)\n",
        "corpus = [id2word.doc2bow(text) for text in texts_lemmatized]\n",
        "\n",
        "# Now the corpus and dictionary are ready for LDA modeling\n"
      ],
      "metadata": {
        "colab": {
          "base_uri": "https://localhost:8080/"
        },
        "id": "J-qXHqNtKvZ6",
        "outputId": "7d1bff33-d8e8-4c1e-e338-86994f81f944"
      },
      "execution_count": null,
      "outputs": [
        {
          "output_type": "stream",
          "name": "stderr",
          "text": [
            "[nltk_data] Downloading package stopwords to /root/nltk_data...\n",
            "[nltk_data]   Unzipping corpora/stopwords.zip.\n"
          ]
        }
      ]
    },
    {
      "cell_type": "markdown",
      "source": [
        "Now we have id2word (the dictionary) and corpus (the term-document frequency) ready to be used for LDA modeling."
      ],
      "metadata": {
        "id": "IyH7QzjaUi3j"
      }
    },
    {
      "cell_type": "code",
      "source": [
        "from gensim.models import LdaModel\n",
        "from gensim.models.coherencemodel import CoherenceModel\n",
        "\n",
        "# Function to compute coherence score and return the best model\n",
        "def compute_coherence_values(dictionary, corpus, texts, limit, start=2, step=1):\n",
        "    \"\"\"\n",
        "    Compute c_v coherence for various numbers of topics.\n",
        "\n",
        "    Parameters:\n",
        "    ----------\n",
        "    dictionary : Gensim dictionary\n",
        "    corpus : Gensim corpus\n",
        "    texts : List of input texts\n",
        "    limit : Max number of topics\n",
        "\n",
        "    Returns:\n",
        "    -------\n",
        "    model_list : List of LDA topic models\n",
        "    coherence_values : Coherence values corresponding to the LDA model with respective number of topics\n",
        "    \"\"\"\n",
        "    coherence_values = []\n",
        "    model_list = []\n",
        "\n",
        "    for num_topics in range(start, limit, step):\n",
        "        model = LdaModel(corpus=corpus,\n",
        "                         id2word=dictionary,\n",
        "                         num_topics=num_topics,\n",
        "                         random_state=100,\n",
        "                         update_every=1,\n",
        "                         chunksize=100,\n",
        "                         passes=10,\n",
        "                         alpha='auto',\n",
        "                         per_word_topics=True)\n",
        "        model_list.append(model)\n",
        "\n",
        "        # Compute the Coherence Score using 'c_v' coherence\n",
        "        coherence_model = CoherenceModel(model=model, texts=texts, dictionary=dictionary, coherence='c_v')\n",
        "        coherence_values.append(coherence_model.get_coherence())\n",
        "\n",
        "    return model_list, coherence_values\n",
        "\n",
        "# Compute coherence values for different numbers of topics\n",
        "model_list, coherence_values = compute_coherence_values(dictionary=id2word,\n",
        "                                                        corpus=corpus,\n",
        "                                                        texts=texts,\n",
        "                                                        start=2, limit=20, step=1)\n",
        "\n",
        "# Find the best model with highest coherence score\n",
        "best_model_index = coherence_values.index(max(coherence_values))\n",
        "best_model = model_list[best_model_index]\n",
        "\n",
        "# Print the best number of topics and its coherence score\n",
        "print(f\"Best Model with {best_model.num_topics} topics has coherence score of {max(coherence_values):.4f}\")\n",
        "\n",
        "# Print the topics of the best model\n",
        "for idx, topic in best_model.print_topics(-1):\n",
        "    print(f'Topic {idx}: \\nWords: {topic}\\n')\n"
      ],
      "metadata": {
        "colab": {
          "base_uri": "https://localhost:8080/"
        },
        "id": "wTQzGNl6DtFF",
        "outputId": "423ba9bc-32d2-44dc-fd80-24a2192908f3"
      },
      "execution_count": null,
      "outputs": [
        {
          "output_type": "stream",
          "name": "stderr",
          "text": [
            "/usr/local/lib/python3.10/dist-packages/gensim/topic_coherence/direct_confirmation_measure.py:204: RuntimeWarning: divide by zero encountered in scalar divide\n",
            "  m_lr_i = np.log(numerator / denominator)\n",
            "/usr/local/lib/python3.10/dist-packages/gensim/topic_coherence/indirect_confirmation_measure.py:323: RuntimeWarning: invalid value encountered in scalar divide\n",
            "  return cv1.T.dot(cv2)[0, 0] / (_magnitude(cv1) * _magnitude(cv2))\n"
          ]
        },
        {
          "output_type": "stream",
          "name": "stdout",
          "text": [
            "Best Model with 4 topics has coherence score of 0.4591\n",
            "Topic 0: \n",
            "Words: 0.024*\"good\" + 0.024*\"food\" + 0.018*\"place\" + 0.018*\"great\" + 0.014*\"go\" + 0.013*\"order\" + 0.013*\"get\" + 0.012*\"service\" + 0.010*\"back\" + 0.010*\"come\"\n",
            "\n",
            "Topic 1: \n",
            "Words: 0.012*\"soft\" + 0.009*\"turn\" + 0.009*\"healthy\" + 0.009*\"phenomenal\" + 0.009*\"support\" + 0.008*\"true\" + 0.008*\"almost\" + 0.007*\"pleasant\" + 0.006*\"awful\" + 0.006*\"crunchy\"\n",
            "\n",
            "Topic 2: \n",
            "Words: 0.018*\"order\" + 0.017*\"ask\" + 0.015*\"say\" + 0.014*\"take\" + 0.014*\"tell\" + 0.012*\"table\" + 0.012*\"minute\" + 0.012*\"get\" + 0.010*\"never\" + 0.009*\"come\"\n",
            "\n",
            "Topic 3: \n",
            "Words: 0.014*\"cuban\" + 0.011*\"incredible\" + 0.009*\"sausage\" + 0.009*\"café\" + 0.008*\"spice\" + 0.008*\"platter\" + 0.008*\"morning\" + 0.008*\"ingredient\" + 0.007*\"brisket\" + 0.007*\"move\"\n",
            "\n"
          ]
        }
      ]
    },
    {
      "cell_type": "code",
      "source": [
        "pip install pyLDAvis"
      ],
      "metadata": {
        "colab": {
          "base_uri": "https://localhost:8080/"
        },
        "id": "yd3JwCTBn_Mk",
        "outputId": "7a95ac88-a038-4f2e-f148-5d36c3143d51"
      },
      "execution_count": null,
      "outputs": [
        {
          "output_type": "stream",
          "name": "stdout",
          "text": [
            "Collecting pyLDAvis\n",
            "  Downloading pyLDAvis-3.4.1-py3-none-any.whl.metadata (4.2 kB)\n",
            "Requirement already satisfied: numpy>=1.24.2 in /usr/local/lib/python3.10/dist-packages (from pyLDAvis) (1.26.4)\n",
            "Requirement already satisfied: scipy in /usr/local/lib/python3.10/dist-packages (from pyLDAvis) (1.13.1)\n",
            "Requirement already satisfied: pandas>=2.0.0 in /usr/local/lib/python3.10/dist-packages (from pyLDAvis) (2.1.4)\n",
            "Requirement already satisfied: joblib>=1.2.0 in /usr/local/lib/python3.10/dist-packages (from pyLDAvis) (1.4.2)\n",
            "Requirement already satisfied: jinja2 in /usr/local/lib/python3.10/dist-packages (from pyLDAvis) (3.1.4)\n",
            "Requirement already satisfied: numexpr in /usr/local/lib/python3.10/dist-packages (from pyLDAvis) (2.10.1)\n",
            "Collecting funcy (from pyLDAvis)\n",
            "  Downloading funcy-2.0-py2.py3-none-any.whl.metadata (5.9 kB)\n",
            "Requirement already satisfied: scikit-learn>=1.0.0 in /usr/local/lib/python3.10/dist-packages (from pyLDAvis) (1.5.2)\n",
            "Requirement already satisfied: gensim in /usr/local/lib/python3.10/dist-packages (from pyLDAvis) (4.3.3)\n",
            "Requirement already satisfied: setuptools in /usr/local/lib/python3.10/dist-packages (from pyLDAvis) (71.0.4)\n",
            "Requirement already satisfied: python-dateutil>=2.8.2 in /usr/local/lib/python3.10/dist-packages (from pandas>=2.0.0->pyLDAvis) (2.8.2)\n",
            "Requirement already satisfied: pytz>=2020.1 in /usr/local/lib/python3.10/dist-packages (from pandas>=2.0.0->pyLDAvis) (2024.2)\n",
            "Requirement already satisfied: tzdata>=2022.1 in /usr/local/lib/python3.10/dist-packages (from pandas>=2.0.0->pyLDAvis) (2024.1)\n",
            "Requirement already satisfied: threadpoolctl>=3.1.0 in /usr/local/lib/python3.10/dist-packages (from scikit-learn>=1.0.0->pyLDAvis) (3.5.0)\n",
            "Requirement already satisfied: smart-open>=1.8.1 in /usr/local/lib/python3.10/dist-packages (from gensim->pyLDAvis) (7.0.4)\n",
            "Requirement already satisfied: MarkupSafe>=2.0 in /usr/local/lib/python3.10/dist-packages (from jinja2->pyLDAvis) (2.1.5)\n",
            "Requirement already satisfied: six>=1.5 in /usr/local/lib/python3.10/dist-packages (from python-dateutil>=2.8.2->pandas>=2.0.0->pyLDAvis) (1.16.0)\n",
            "Requirement already satisfied: wrapt in /usr/local/lib/python3.10/dist-packages (from smart-open>=1.8.1->gensim->pyLDAvis) (1.16.0)\n",
            "Downloading pyLDAvis-3.4.1-py3-none-any.whl (2.6 MB)\n",
            "\u001b[?25l   \u001b[90m━━━━━━━━━━━━━━━━━━━━━━━━━━━━━━━━━━━━━━━━\u001b[0m \u001b[32m0.0/2.6 MB\u001b[0m \u001b[31m?\u001b[0m eta \u001b[36m-:--:--\u001b[0m\r\u001b[2K   \u001b[91m━━━━━━━━━━\u001b[0m\u001b[90m╺\u001b[0m\u001b[90m━━━━━━━━━━━━━━━━━━━━━━━━━━━━━\u001b[0m \u001b[32m0.7/2.6 MB\u001b[0m \u001b[31m19.8 MB/s\u001b[0m eta \u001b[36m0:00:01\u001b[0m\r\u001b[2K   \u001b[90m━━━━━━━━━━━━━━━━━━━━━━━━━━━━━━━━━━━━━━━━\u001b[0m \u001b[32m2.6/2.6 MB\u001b[0m \u001b[31m41.7 MB/s\u001b[0m eta \u001b[36m0:00:00\u001b[0m\n",
            "\u001b[?25hDownloading funcy-2.0-py2.py3-none-any.whl (30 kB)\n",
            "Installing collected packages: funcy, pyLDAvis\n",
            "Successfully installed funcy-2.0 pyLDAvis-3.4.1\n"
          ]
        }
      ]
    },
    {
      "cell_type": "code",
      "source": [
        "import pyLDAvis\n",
        "import pyLDAvis.gensim_models as gensimvis  # For Gensim >= 4.0.0\n",
        "\n",
        "# Prepare the visualization data for pyLDAvis\n",
        "lda_display = gensimvis.prepare(best_model, corpus, id2word, sort_topics=False)\n",
        "\n",
        "# Display the visualization\n",
        "pyLDAvis.display(lda_display)"
      ],
      "metadata": {
        "colab": {
          "base_uri": "https://localhost:8080/",
          "height": 916
        },
        "id": "or3_rTu9oCY5",
        "outputId": "1d29d5fb-d736-4735-e252-8302f7691e27"
      },
      "execution_count": null,
      "outputs": [
        {
          "output_type": "stream",
          "name": "stderr",
          "text": [
            "/usr/local/lib/python3.10/dist-packages/ipykernel/ipkernel.py:283: DeprecationWarning: `should_run_async` will not call `transform_cell` automatically in the future. Please pass the result to `transformed_cell` argument and any exception that happen during thetransform in `preprocessing_exc_tuple` in IPython 7.17 and above.\n",
            "  and should_run_async(code)\n"
          ]
        },
        {
          "output_type": "execute_result",
          "data": {
            "text/plain": [
              "<IPython.core.display.HTML object>"
            ],
            "text/html": [
              "\n",
              "<link rel=\"stylesheet\" type=\"text/css\" href=\"https://cdn.jsdelivr.net/gh/bmabey/pyLDAvis@3.4.0/pyLDAvis/js/ldavis.v1.0.0.css\">\n",
              "\n",
              "\n",
              "<div id=\"ldavis_el41321326026155362563546529046\" style=\"background-color:white;\"></div>\n",
              "<script type=\"text/javascript\">\n",
              "\n",
              "var ldavis_el41321326026155362563546529046_data = {\"mdsDat\": {\"x\": [0.2718074040356812, -0.15181010744477638, 0.08236389230877578, -0.20236118889968058], \"y\": [0.13223591172539423, 0.009324037369113674, -0.2218752773825295, 0.08031532828802164], \"topics\": [1, 2, 3, 4], \"cluster\": [1, 1, 1, 1], \"Freq\": [73.0966675570213, 3.779558585239598, 17.329238036033658, 5.7945358217054395]}, \"tinfo\": {\"Term\": [\"order\", \"ask\", \"good\", \"say\", \"take\", \"food\", \"tell\", \"table\", \"place\", \"minute\", \"great\", \"get\", \"never\", \"bad\", \"wait\", \"come\", \"steak\", \"cuban\", \"people\", \"service\", \"see\", \"give\", \"server\", \"bowl\", \"love\", \"incredible\", \"leave\", \"plastic\", \"cold\", \"customer\", \"good\", \"place\", \"great\", \"love\", \"food\", \"make\", \"well\", \"try\", \"amazing\", \"pizza\", \"friendly\", \"also\", \"staff\", \"really\", \"nice\", \"service\", \"definitely\", \"ve\", \"always\", \"little\", \"price\", \"fresh\", \"excellent\", \"sandwich\", \"roll\", \"sauce\", \"cheese\", \"visit\", \"spot\", \"delicious\", \"menu\", \"meal\", \"m\", \"go\", \"back\", \"time\", \"get\", \"come\", \"order\", \"restaurant\", \"look\", \"soft\", \"healthy\", \"turn\", \"phenomenal\", \"almost\", \"support\", \"pleasant\", \"crunchy\", \"downtown\", \"true\", \"awful\", \"locate\", \"market\", \"greasy\", \"avocado\", \"crispy\", \"clearwater\", \"pace\", \"pour\", \"juice\", \"raman\", \"package\", \"gear\", \"ichiban\", \"deli\", \"mazzaro\", \"mostly\", \"protein\", \"maintain\", \"volcano\", \"remember\", \"container\", \"ubereat\", \"decor\", \"excited\", \"minute\", \"plastic\", \"manager\", \"arrive\", \"second\", \"money\", \"card\", \"horrible\", \"music\", \"door\", \"name\", \"problem\", \"play\", \"charge\", \"happen\", \"phone\", \"pm\", \"understand\", \"hotel\", \"rude\", \"issue\", \"spoon\", \"credit\", \"literally\", \"hear\", \"less\", \"fix\", \"person\", \"speak\", \"completely\", \"care\", \"figure\", \"terrible\", \"tell\", \"ask\", \"maybe\", \"call\", \"bad\", \"table\", \"say\", \"never\", \"take\", \"people\", \"stay\", \"customer\", \"cold\", \"see\", \"order\", \"leave\", \"last\", \"wait\", \"walk\", \"get\", \"come\", \"server\", \"give\", \"want\", \"open\", \"drink\", \"go\", \"cuban\", \"incredible\", \"platter\", \"spice\", \"sausage\", \"caf\\u00e9\", \"ingredient\", \"morning\", \"brisket\", \"croissant\", \"gem\", \"philly\", \"yelp\", \"smoke\", \"caribbean\", \"rib\", \"move\", \"traditional\", \"ambiance\", \"chill\", \"deal\", \"bakery\", \"pancake\", \"entire\", \"red\", \"toast\", \"mini\", \"early\", \"cheesesteak\", \"outdoor_seating\", \"lose\", \"whole\", \"steak\"], \"Freq\": [544.0, 143.0, 728.0, 180.0, 221.0, 726.0, 113.0, 139.0, 569.0, 89.0, 551.0, 476.0, 115.0, 83.0, 144.0, 372.0, 75.0, 33.0, 81.0, 371.0, 82.0, 161.0, 111.0, 61.0, 304.0, 26.0, 68.0, 43.0, 63.0, 62.0, 727.5888255690483, 568.819401286511, 550.9053250426851, 304.2945069186025, 725.3324075123068, 243.52742808045286, 242.04167790180617, 243.95774207578498, 224.29930188561272, 219.76937909899155, 193.10392274778633, 193.43326873179052, 191.91064352936536, 184.09808198333567, 170.66853172172085, 370.63043287855015, 145.01529908442186, 147.7949803390672, 142.85730543838133, 141.8581733638602, 136.7277740111506, 134.87803027159796, 124.5537852567548, 124.24077867338822, 114.9648420118541, 116.4630299664479, 119.60398154855956, 116.63689297314458, 113.38654500813598, 111.04634620757984, 131.63114562721705, 122.12864169175808, 151.42436790936833, 445.43361731878275, 311.0319445250524, 259.99216930941026, 389.1552894265975, 307.7508721637701, 412.9460603212091, 190.14654871487886, 135.62096284342135, 19.113093554703237, 13.820786507805241, 14.728850939253388, 13.583393308361691, 12.477513594909244, 13.572529889298874, 11.337732137630463, 9.196885870661262, 8.524927672732128, 12.554591856620874, 9.45464017880244, 6.911362193605624, 6.847531804566426, 6.613143507085256, 6.231222622517041, 6.707543795143834, 6.130657604208487, 6.4996616457344, 6.321071346042836, 6.939861949977328, 5.758845569478855, 6.254866163068975, 6.0703633992540995, 5.892922229356015, 5.457670650896831, 5.2448613242093165, 6.01663220037853, 5.2659703146639, 5.207883716962291, 5.954454358808258, 8.515509489652704, 5.653840072899482, 6.0106131083047725, 6.356241479495724, 5.673205863550962, 88.51500930815709, 43.29226583582539, 36.73648792915994, 31.447758019172788, 31.119944083230614, 35.99093190590396, 27.346569617435392, 26.44271606329097, 29.204858755706613, 24.150301125024242, 23.86924158313225, 21.608643549156312, 22.838467914152293, 20.703839473939276, 21.206259701969167, 19.693493490806578, 20.99289667969492, 19.077685297405015, 18.77266001900659, 17.05929808922429, 17.35661528903208, 20.435363263881314, 16.625666287635696, 16.808338381298363, 16.28516510984976, 16.162142472100495, 16.505135786677172, 15.310809465824878, 14.726893128196531, 15.11587939789963, 32.417797139186916, 16.786900553881104, 22.45799715491871, 100.17232239055959, 123.16777107432948, 37.794503055117, 40.51606633356888, 63.64016583004129, 89.16000088330776, 107.14398903879152, 71.22424741365212, 104.12833658460461, 46.80227441991003, 32.97601193211351, 38.79634204499409, 38.84602465718732, 45.225056747630276, 131.26338971174195, 39.951967849271675, 37.52737256485718, 57.73342347169207, 35.93609808273657, 86.53373500787782, 64.47787810782836, 42.50220907332042, 46.074008340896015, 40.12566790979913, 35.13402182795857, 35.37746083599993, 37.03971437198009, 33.197662139074524, 26.111230359039197, 20.772594004360503, 20.77827401311455, 21.87410559371051, 21.020835221286816, 19.703410391027816, 20.249279054223706, 18.050653154663404, 14.77425072038418, 14.152950492878364, 13.812552102230384, 13.311888835620561, 14.285523902174862, 12.682285041366198, 12.906631716853253, 15.984265742102432, 11.89557193156891, 13.134905185395903, 11.398482308653723, 11.265034000295229, 10.67773180352664, 10.643093547173734, 11.763705960185822, 9.861566037025147, 10.833881919837534, 11.098037641836864, 11.389783442459196, 9.24565817242292, 7.85426506931901, 8.601464183199148, 9.478557897594168, 10.318876232406721], \"Total\": [544.0, 143.0, 728.0, 180.0, 221.0, 726.0, 113.0, 139.0, 569.0, 89.0, 551.0, 476.0, 115.0, 83.0, 144.0, 372.0, 75.0, 33.0, 81.0, 371.0, 82.0, 161.0, 111.0, 61.0, 304.0, 26.0, 68.0, 43.0, 63.0, 62.0, 728.1687590299935, 569.4012183301813, 551.4843989797405, 304.874856653874, 726.899057209738, 244.115352066997, 242.63134208304788, 244.55738594078267, 224.87595421627117, 220.35228097706897, 193.67962298309837, 194.01929551613654, 192.49423773430385, 184.67943992738145, 171.25090815061188, 371.9115925882557, 145.58987746462972, 148.38128545434415, 143.43159406371726, 142.4423838926755, 137.3047239023232, 135.46002626282038, 125.1346092850845, 124.84745422909977, 115.5385584552934, 117.04667396793955, 120.20398680902144, 117.22354127573395, 113.96860905716801, 111.62083378389958, 132.39838901105816, 122.76886222297904, 153.80760809797596, 482.8132416727979, 336.5995239666698, 292.3126267361589, 476.02680026555544, 372.5667995433413, 544.5467568896273, 213.0843888604958, 151.3866678687209, 19.88844816038076, 14.498336067133305, 15.467902721012088, 14.321639629916792, 13.198029907509639, 14.389594568759133, 12.064241112057612, 9.877932379437375, 9.208171867468103, 13.631055836599742, 10.310737615281274, 7.584807372733517, 7.522282223435176, 7.318346705640414, 6.915107652151736, 7.450454827597293, 6.810220586245405, 7.222670512496095, 7.030788012267841, 7.724749229621355, 6.417874443874826, 6.974006884152285, 6.768841691654727, 6.59252788198867, 6.12919412532278, 5.918016574569631, 6.819109491401277, 5.999763437149998, 5.953719256292855, 6.817738827151142, 10.089281729225743, 6.5259934612725266, 7.046626569582652, 12.387484353680478, 10.335479812365103, 89.11640672340171, 43.911565833278445, 37.32116062741224, 32.06732411304263, 31.74362711146045, 36.73297498505576, 27.95106481765878, 27.03377920428771, 29.859343875397336, 24.766199849365783, 24.48685792220038, 22.20166699428194, 23.47318043537456, 21.290299835664822, 21.810836817355924, 20.287497681576323, 21.632253872879126, 19.675713889526957, 19.392491110184476, 17.64339745370573, 17.95497918879432, 21.14886178713759, 17.225960825698486, 17.434646033623647, 16.90364363162131, 16.77598294325393, 17.13568537800558, 15.91365632996676, 15.311377083583086, 15.727565780349028, 33.79674834140498, 17.480204375478177, 23.617006982614416, 113.72689357677014, 143.77220980244948, 41.31264626591471, 45.50300193098952, 83.89685025669824, 139.33601778433595, 180.50564541875937, 115.11861416563362, 221.6917635234673, 81.02288732922192, 47.31459653446957, 62.51494806451942, 63.086641026463205, 82.46758686193314, 544.5467568896273, 68.39505595826365, 61.25046579604614, 144.25354933173622, 58.70740730276116, 476.02680026555544, 372.5667995433413, 111.35542489470643, 161.61129181350208, 160.77333381859685, 86.3380043639591, 163.74809239082106, 482.8132416727979, 33.873546280377006, 26.829519075840697, 21.44678579843025, 21.45530351230855, 22.591312628837088, 21.717840561126106, 20.407000233816742, 20.97539543488765, 18.732583035759784, 15.437897302924892, 14.821816196918334, 14.494044289362577, 13.992936927018702, 15.01858210676738, 13.339909302338194, 13.59282805234791, 16.846822368037525, 12.56567545539844, 13.903152958805862, 12.077228865527887, 11.94880441597902, 11.357433620160249, 11.336152241055016, 12.536913562449502, 10.519645379947246, 11.558921050456044, 11.859834286275579, 12.197658008045549, 9.90776665156983, 8.518435047964712, 9.33430501044407, 17.819681883103762, 75.60020357717323], \"Category\": [\"Default\", \"Default\", \"Default\", \"Default\", \"Default\", \"Default\", \"Default\", \"Default\", \"Default\", \"Default\", \"Default\", \"Default\", \"Default\", \"Default\", \"Default\", \"Default\", \"Default\", \"Default\", \"Default\", \"Default\", \"Default\", \"Default\", \"Default\", \"Default\", \"Default\", \"Default\", \"Default\", \"Default\", \"Default\", \"Default\", \"Topic1\", \"Topic1\", \"Topic1\", \"Topic1\", \"Topic1\", \"Topic1\", \"Topic1\", \"Topic1\", \"Topic1\", \"Topic1\", \"Topic1\", \"Topic1\", \"Topic1\", \"Topic1\", \"Topic1\", \"Topic1\", \"Topic1\", \"Topic1\", \"Topic1\", \"Topic1\", \"Topic1\", \"Topic1\", \"Topic1\", \"Topic1\", \"Topic1\", \"Topic1\", \"Topic1\", \"Topic1\", \"Topic1\", \"Topic1\", \"Topic1\", \"Topic1\", \"Topic1\", \"Topic1\", \"Topic1\", \"Topic1\", \"Topic1\", \"Topic1\", \"Topic1\", \"Topic1\", \"Topic1\", \"Topic2\", \"Topic2\", \"Topic2\", \"Topic2\", \"Topic2\", \"Topic2\", \"Topic2\", \"Topic2\", \"Topic2\", \"Topic2\", \"Topic2\", \"Topic2\", \"Topic2\", \"Topic2\", \"Topic2\", \"Topic2\", \"Topic2\", \"Topic2\", \"Topic2\", \"Topic2\", \"Topic2\", \"Topic2\", \"Topic2\", \"Topic2\", \"Topic2\", \"Topic2\", \"Topic2\", \"Topic2\", \"Topic2\", \"Topic2\", \"Topic2\", \"Topic2\", \"Topic2\", \"Topic2\", \"Topic2\", \"Topic3\", \"Topic3\", \"Topic3\", \"Topic3\", \"Topic3\", \"Topic3\", \"Topic3\", \"Topic3\", \"Topic3\", \"Topic3\", \"Topic3\", \"Topic3\", \"Topic3\", \"Topic3\", \"Topic3\", \"Topic3\", \"Topic3\", \"Topic3\", \"Topic3\", \"Topic3\", \"Topic3\", \"Topic3\", \"Topic3\", \"Topic3\", \"Topic3\", \"Topic3\", \"Topic3\", \"Topic3\", \"Topic3\", \"Topic3\", \"Topic3\", \"Topic3\", \"Topic3\", \"Topic3\", \"Topic3\", \"Topic3\", \"Topic3\", \"Topic3\", \"Topic3\", \"Topic3\", \"Topic3\", \"Topic3\", \"Topic3\", \"Topic3\", \"Topic3\", \"Topic3\", \"Topic3\", \"Topic3\", \"Topic3\", \"Topic3\", \"Topic3\", \"Topic3\", \"Topic3\", \"Topic3\", \"Topic3\", \"Topic3\", \"Topic3\", \"Topic3\", \"Topic3\", \"Topic3\", \"Topic4\", \"Topic4\", \"Topic4\", \"Topic4\", \"Topic4\", \"Topic4\", \"Topic4\", \"Topic4\", \"Topic4\", \"Topic4\", \"Topic4\", \"Topic4\", \"Topic4\", \"Topic4\", \"Topic4\", \"Topic4\", \"Topic4\", \"Topic4\", \"Topic4\", \"Topic4\", \"Topic4\", \"Topic4\", \"Topic4\", \"Topic4\", \"Topic4\", \"Topic4\", \"Topic4\", \"Topic4\", \"Topic4\", \"Topic4\", \"Topic4\", \"Topic4\", \"Topic4\"], \"logprob\": [30.0, 29.0, 28.0, 27.0, 26.0, 25.0, 24.0, 23.0, 22.0, 21.0, 20.0, 19.0, 18.0, 17.0, 16.0, 15.0, 14.0, 13.0, 12.0, 11.0, 10.0, 9.0, 8.0, 7.0, 6.0, 5.0, 4.0, 3.0, 2.0, 1.0, -3.7475, -3.9937, -4.0257, -4.6192, -3.7506, -4.842, -4.8481, -4.8402, -4.9243, -4.9447, -5.074, -5.0723, -5.0802, -5.1218, -5.1975, -4.422, -5.3604, -5.3414, -5.3754, -5.3824, -5.4192, -5.4329, -5.5125, -5.515, -5.5926, -5.5797, -5.5531, -5.5782, -5.6064, -5.6273, -5.4572, -5.5322, -5.3172, -4.2382, -4.5973, -4.7766, -4.3733, -4.6079, -4.3139, -5.0894, -5.4274, -4.4247, -4.7489, -4.6853, -4.7662, -4.8511, -4.767, -4.9469, -5.1562, -5.2321, -4.845, -5.1286, -5.4419, -5.4512, -5.486, -5.5455, -5.4718, -5.5618, -5.5033, -5.5312, -5.4378, -5.6243, -5.5417, -5.5716, -5.6013, -5.678, -5.7178, -5.5805, -5.7138, -5.7249, -5.5909, -5.2332, -5.6427, -5.5815, -5.5256, -5.6393, -4.4147, -5.1299, -5.2941, -5.4495, -5.46, -5.3146, -5.5893, -5.6229, -5.5235, -5.7136, -5.7253, -5.8248, -5.7694, -5.8675, -5.8436, -5.9176, -5.8537, -5.9493, -5.9654, -6.0612, -6.0439, -5.8806, -6.0869, -6.076, -6.1076, -6.1152, -6.0942, -6.1693, -6.2082, -6.1821, -5.4191, -6.0773, -5.7862, -4.291, -4.0843, -5.2657, -5.1962, -4.7446, -4.4074, -4.2237, -4.632, -4.2522, -5.0519, -5.4021, -5.2395, -5.2382, -5.0862, -4.0206, -5.2102, -5.2728, -4.842, -5.3161, -4.4373, -4.7315, -5.1483, -5.0676, -5.2058, -5.3387, -5.3318, -5.2859, -4.2999, -4.54, -4.7687, -4.7685, -4.7171, -4.7569, -4.8216, -4.7943, -4.9092, -5.1095, -5.1524, -5.1768, -5.2137, -5.1431, -5.2622, -5.2446, -5.0308, -5.3262, -5.2271, -5.3689, -5.3807, -5.4342, -5.4375, -5.3374, -5.5137, -5.4197, -5.3956, -5.3697, -5.5782, -5.7413, -5.6504, -5.5533, -5.4684], \"loglift\": [30.0, 29.0, 28.0, 27.0, 26.0, 25.0, 24.0, 23.0, 22.0, 21.0, 20.0, 19.0, 18.0, 17.0, 16.0, 15.0, 14.0, 13.0, 12.0, 11.0, 10.0, 9.0, 8.0, 7.0, 6.0, 5.0, 4.0, 3.0, 2.0, 1.0, 0.3126, 0.3124, 0.3123, 0.3115, 0.3112, 0.311, 0.311, 0.3109, 0.3108, 0.3107, 0.3104, 0.3104, 0.3104, 0.3102, 0.31, 0.3099, 0.3094, 0.3094, 0.3094, 0.3093, 0.3092, 0.3091, 0.3087, 0.3085, 0.3084, 0.3084, 0.3084, 0.3084, 0.3083, 0.3082, 0.3076, 0.3082, 0.2978, 0.2328, 0.2344, 0.1962, 0.1119, 0.1223, 0.0368, 0.1995, 0.2034, 3.2358, 3.2277, 3.2266, 3.2226, 3.2194, 3.2171, 3.2135, 3.2041, 3.1985, 3.1933, 3.1889, 3.1826, 3.1816, 3.1742, 3.1714, 3.1705, 3.1704, 3.1701, 3.1692, 3.1684, 3.1672, 3.1667, 3.1667, 3.1634, 3.1595, 3.1548, 3.1504, 3.1451, 3.1417, 3.1402, 3.106, 3.1321, 3.1165, 2.6083, 2.6757, 1.746, 1.7386, 1.737, 1.7333, 1.7329, 1.7324, 1.7309, 1.7307, 1.7306, 1.7276, 1.7272, 1.7257, 1.7254, 1.7248, 1.7247, 1.7231, 1.7228, 1.7219, 1.7203, 1.7191, 1.7189, 1.7185, 1.7173, 1.7162, 1.7155, 1.7155, 1.7153, 1.7142, 1.7139, 1.7131, 1.7111, 1.7123, 1.7025, 1.6259, 1.5981, 1.6638, 1.6367, 1.4764, 1.3063, 1.2312, 1.2726, 0.9971, 1.204, 1.3917, 1.2757, 1.2679, 1.152, 0.33, 1.2152, 1.2629, 0.837, 1.262, 0.0478, -0.0013, 0.7896, 0.4978, 0.3648, 0.8537, 0.2205, -0.8149, 2.8281, 2.8211, 2.8163, 2.8162, 2.816, 2.8156, 2.8132, 2.813, 2.8112, 2.8043, 2.8021, 2.8001, 2.7984, 2.7982, 2.7977, 2.7965, 2.7957, 2.7935, 2.7914, 2.7904, 2.7893, 2.7865, 2.7852, 2.7846, 2.7837, 2.7835, 2.7819, 2.7797, 2.7791, 2.7671, 2.7665, 2.217, 0.8568]}, \"token.table\": {\"Topic\": [2, 1, 1, 1, 4, 3, 1, 3, 2, 2, 1, 3, 1, 3, 4, 1, 2, 4, 4, 1, 3, 3, 1, 3, 4, 3, 1, 4, 4, 2, 1, 3, 1, 3, 3, 2, 3, 2, 4, 2, 4, 1, 3, 4, 1, 2, 4, 1, 2, 1, 3, 2, 1, 3, 4, 4, 1, 2, 3, 3, 3, 1, 3, 1, 1, 2, 4, 1, 3, 1, 3, 1, 3, 1, 2, 1, 3, 2, 3, 3, 3, 2, 4, 4, 3, 2, 1, 3, 1, 3, 3, 3, 1, 2, 1, 3, 4, 1, 1, 3, 2, 1, 3, 2, 3, 4, 2, 1, 1, 4, 3, 3, 4, 2, 4, 3, 3, 1, 3, 1, 1, 3, 1, 3, 4, 2, 2, 4, 1, 3, 3, 2, 4, 3, 1, 1, 3, 4, 3, 2, 3, 2, 1, 3, 2, 2, 1, 4, 2, 3, 1, 3, 4, 1, 3, 1, 1, 4, 1, 3, 3, 1, 3, 1, 3, 1, 3, 4, 2, 3, 4, 3, 1, 1, 1, 3, 1, 4, 2, 1, 3, 1, 3, 1, 3, 3, 4, 1, 3, 4, 4, 1, 2, 1, 2, 2, 3, 3, 1, 1, 2, 1, 3, 1, 3, 1, 3, 1, 3, 4, 4], \"Freq\": [0.9092266106452779, 0.9947464219297107, 0.9969909414551613, 0.996104722626641, 0.9350397020386781, 0.9667161466519584, 0.13910894203741492, 0.8555199935301017, 0.867665451040811, 0.8728764454893446, 0.9239466423927425, 0.07427223813446483, 0.23838797212060078, 0.7628415107859225, 0.9685286630664713, 0.9292262821873186, 0.06520886190788201, 0.9608925776887624, 0.9669469642202362, 0.10988286020300526, 0.9010394536646432, 0.9659739325187383, 0.029588645330559295, 0.9468366505778975, 0.9745193693124574, 0.9863646901215303, 0.9983029946473777, 0.9083782770130139, 0.9108049638272047, 0.8810287308634603, 0.3804291940338466, 0.6181974403050008, 0.8266973878980053, 0.17178127540737773, 0.9537394539936948, 0.919400246967155, 0.9868825415322328, 0.9395399558791017, 0.9716349128166615, 0.9111218475978897, 0.9742115492382605, 0.3679120068413482, 0.6238507942092427, 0.9205941964611797, 0.08072664081330504, 0.4843598448798302, 0.4036332040665252, 0.9959483621052361, 0.8157679293175735, 0.9944380115892922, 0.9690626800225306, 0.9773927039520667, 0.781688495610072, 0.2137429480183791, 0.9018124620926758, 0.9571733856363449, 0.9989242841300777, 0.5805245725333191, 0.38701638168887936, 0.9725286749992567, 0.9920817069750979, 0.9973874540200566, 0.0013757068331311125, 0.9966039703703597, 0.9964909938762238, 0.8864145851420002, 0.9445536102998496, 0.8171808809566881, 0.18276281913427214, 0.7115839413789782, 0.28463357655159127, 0.9216814320547905, 0.07663418648545449, 0.9997682418698953, 0.9565001880281161, 0.9991216451804681, 0.9628241307683022, 0.9656280510518033, 0.9465414882545866, 0.9617597230311126, 0.979760665715693, 0.9101212929857293, 0.9690818507221154, 0.9800558519550416, 0.9468125705547841, 0.9061782838409526, 0.37550734841080513, 0.6204034452004606, 0.4093863161262166, 0.5848375944660238, 0.9537444127191383, 0.9750699823337159, 0.9968942959210173, 0.9228975313419521, 0.8983618036823171, 0.09908402246496145, 0.964185334626411, 0.9971304401304983, 0.9817459738650411, 0.0130032579319873, 0.8398111810050818, 0.9995274690181495, 0.9913946773890963, 0.9305686481945545, 0.9198152002998696, 0.07261698949735813, 0.8448776607834373, 0.9937373189825398, 0.9969909829414549, 0.9275003119334817, 0.9986937677619452, 0.980045858377821, 0.953498114592619, 0.879880284598135, 0.9497340003035735, 0.9712202693072103, 0.98011758291949, 0.3822144691274031, 0.6167551660919459, 0.9985348506859233, 0.5907016310570344, 0.40538347229404326, 0.7584289039916362, 0.24056703734359405, 0.9391396371463113, 0.8307176673253021, 0.8603375505169609, 0.9703468836773728, 0.4196345146507446, 0.5800830055466175, 0.942586649414675, 0.9775417034481924, 0.9659139795974568, 0.9858288249202164, 0.9984012828208225, 0.999295367980845, 0.979240871602269, 0.9791677036069922, 0.979841656452252, 0.911785490510965, 0.9707726306932909, 0.8533894052175595, 0.9977806743011991, 0.9909165832307151, 0.8333661905801899, 0.9348889655712036, 0.9963209768902883, 0.9506023861852032, 0.89203575056583, 0.09911508339620333, 0.8916655087501087, 0.10793845632238158, 0.9563867026004563, 0.9953387123528827, 0.9635332449210005, 0.9932120824222442, 0.9910576359630154, 0.973825663052341, 0.4044194841144472, 0.5927792438389843, 0.9765739715613034, 0.44866112139239905, 0.5456689314231881, 0.6196375261038592, 0.3861509220647239, 0.997548899775047, 0.002688811050606596, 0.9321785439180437, 0.9553284322026384, 0.9796636787218215, 0.9787789759279168, 0.9456773703142591, 0.9915010890702181, 0.9974324543938503, 0.29589177601463296, 0.6974591863202063, 0.8597860445395168, 0.1322747760830026, 0.9729252574214307, 0.358844760996327, 0.638743674573462, 0.5277597964870485, 0.4691198190995987, 0.11430893424715313, 0.8792994942088703, 0.9315320953326232, 0.04234236796966469, 0.8894586693125499, 0.10947183622308307, 0.9516459150455057, 0.9549824872203415, 0.07336188861577206, 0.9537045520050369, 0.9977208378367373, 0.9697500863917076, 0.8514712594391617, 0.1419118765731936, 0.965657465171486, 0.9974303669551274, 0.998093034271946, 0.8800571790907336, 0.596172505968834, 0.40206982960688803, 0.37473976472071663, 0.6132105240884455, 0.7463924343038003, 0.24879747810126676, 0.9973979368138194, 0.44894179663136563, 0.5050595212102864, 0.929040134162153], \"Term\": [\"almost\", \"also\", \"always\", \"amazing\", \"ambiance\", \"arrive\", \"ask\", \"ask\", \"avocado\", \"awful\", \"back\", \"back\", \"bad\", \"bad\", \"bakery\", \"bowl\", \"bowl\", \"brisket\", \"caf\\u00e9\", \"call\", \"call\", \"card\", \"care\", \"care\", \"caribbean\", \"charge\", \"cheese\", \"cheesesteak\", \"chill\", \"clearwater\", \"cold\", \"cold\", \"come\", \"come\", \"completely\", \"container\", \"credit\", \"crispy\", \"croissant\", \"crunchy\", \"cuban\", \"customer\", \"customer\", \"deal\", \"decor\", \"decor\", \"decor\", \"definitely\", \"deli\", \"delicious\", \"door\", \"downtown\", \"drink\", \"drink\", \"early\", \"entire\", \"excellent\", \"excited\", \"excited\", \"figure\", \"fix\", \"food\", \"food\", \"fresh\", \"friendly\", \"gear\", \"gem\", \"get\", \"get\", \"give\", \"give\", \"go\", \"go\", \"good\", \"greasy\", \"great\", \"happen\", \"healthy\", \"hear\", \"horrible\", \"hotel\", \"ichiban\", \"incredible\", \"ingredient\", \"issue\", \"juice\", \"last\", \"last\", \"leave\", \"leave\", \"less\", \"literally\", \"little\", \"locate\", \"look\", \"look\", \"lose\", \"love\", \"m\", \"m\", \"maintain\", \"make\", \"manager\", \"market\", \"maybe\", \"maybe\", \"mazzaro\", \"meal\", \"menu\", \"mini\", \"minute\", \"money\", \"morning\", \"mostly\", \"move\", \"music\", \"name\", \"never\", \"never\", \"nice\", \"open\", \"open\", \"order\", \"order\", \"outdoor_seating\", \"pace\", \"package\", \"pancake\", \"people\", \"people\", \"person\", \"phenomenal\", \"philly\", \"phone\", \"pizza\", \"place\", \"plastic\", \"platter\", \"play\", \"pleasant\", \"pm\", \"pour\", \"price\", \"problem\", \"protein\", \"raman\", \"really\", \"red\", \"remember\", \"remember\", \"restaurant\", \"restaurant\", \"rib\", \"roll\", \"rude\", \"sandwich\", \"sauce\", \"sausage\", \"say\", \"say\", \"second\", \"see\", \"see\", \"server\", \"server\", \"service\", \"service\", \"smoke\", \"soft\", \"speak\", \"spice\", \"spoon\", \"spot\", \"staff\", \"stay\", \"stay\", \"steak\", \"steak\", \"support\", \"table\", \"table\", \"take\", \"take\", \"tell\", \"tell\", \"terrible\", \"terrible\", \"time\", \"time\", \"toast\", \"traditional\", \"true\", \"true\", \"try\", \"turn\", \"ubereat\", \"ubereat\", \"understand\", \"ve\", \"visit\", \"volcano\", \"wait\", \"wait\", \"walk\", \"walk\", \"want\", \"want\", \"well\", \"whole\", \"whole\", \"yelp\"]}, \"R\": 30, \"lambda.step\": 0.01, \"plot.opts\": {\"xlab\": \"PC1\", \"ylab\": \"PC2\"}, \"topic.order\": [1, 2, 3, 4]};\n",
              "\n",
              "function LDAvis_load_lib(url, callback){\n",
              "  var s = document.createElement('script');\n",
              "  s.src = url;\n",
              "  s.async = true;\n",
              "  s.onreadystatechange = s.onload = callback;\n",
              "  s.onerror = function(){console.warn(\"failed to load library \" + url);};\n",
              "  document.getElementsByTagName(\"head\")[0].appendChild(s);\n",
              "}\n",
              "\n",
              "if(typeof(LDAvis) !== \"undefined\"){\n",
              "   // already loaded: just create the visualization\n",
              "   !function(LDAvis){\n",
              "       new LDAvis(\"#\" + \"ldavis_el41321326026155362563546529046\", ldavis_el41321326026155362563546529046_data);\n",
              "   }(LDAvis);\n",
              "}else if(typeof define === \"function\" && define.amd){\n",
              "   // require.js is available: use it to load d3/LDAvis\n",
              "   require.config({paths: {d3: \"https://d3js.org/d3.v5\"}});\n",
              "   require([\"d3\"], function(d3){\n",
              "      window.d3 = d3;\n",
              "      LDAvis_load_lib(\"https://cdn.jsdelivr.net/gh/bmabey/pyLDAvis@3.4.0/pyLDAvis/js/ldavis.v3.0.0.js\", function(){\n",
              "        new LDAvis(\"#\" + \"ldavis_el41321326026155362563546529046\", ldavis_el41321326026155362563546529046_data);\n",
              "      });\n",
              "    });\n",
              "}else{\n",
              "    // require.js not available: dynamically load d3 & LDAvis\n",
              "    LDAvis_load_lib(\"https://d3js.org/d3.v5.js\", function(){\n",
              "         LDAvis_load_lib(\"https://cdn.jsdelivr.net/gh/bmabey/pyLDAvis@3.4.0/pyLDAvis/js/ldavis.v3.0.0.js\", function(){\n",
              "                 new LDAvis(\"#\" + \"ldavis_el41321326026155362563546529046\", ldavis_el41321326026155362563546529046_data);\n",
              "            })\n",
              "         });\n",
              "}\n",
              "</script>"
            ]
          },
          "metadata": {},
          "execution_count": 40
        }
      ]
    },
    {
      "cell_type": "code",
      "source": [
        "import gensim\n",
        "from gensim.models.ldamodel import LdaModel\n",
        "from gensim.models.coherencemodel import CoherenceModel"
      ],
      "metadata": {
        "id": "9YXczeGtUmZB",
        "colab": {
          "base_uri": "https://localhost:8080/"
        },
        "outputId": "d3ab5977-e32c-48f7-f807-588040a67cee"
      },
      "execution_count": null,
      "outputs": [
        {
          "output_type": "stream",
          "name": "stderr",
          "text": [
            "/usr/local/lib/python3.10/dist-packages/ipykernel/ipkernel.py:283: DeprecationWarning: `should_run_async` will not call `transform_cell` automatically in the future. Please pass the result to `transformed_cell` argument and any exception that happen during thetransform in `preprocessing_exc_tuple` in IPython 7.17 and above.\n",
            "  and should_run_async(code)\n"
          ]
        }
      ]
    },
    {
      "cell_type": "markdown",
      "source": [
        "Evaluate the model"
      ],
      "metadata": {
        "id": "jeDZWgLJXC8Y"
      }
    },
    {
      "cell_type": "markdown",
      "source": [
        "The second model with 4 topics is performing better as compared to previous model with 5 topics. The topics are more distinct with less overlap, and the salient terms are more evenly distributed, indicating that this model is better at capturing different themes within the dataset."
      ],
      "metadata": {
        "id": "Vw9EgVvtEx2K"
      }
    },
    {
      "cell_type": "markdown",
      "source": [
        "###Model Interpretation\n",
        "Intertopic Distance Map - This map provides a visual representation of how distinct the topics are from each other in the topic space.\n",
        "\n",
        "Separation: Topics are more separated compared to the first image, especially Topic 1 and Topic 4, which are quite distinct.\n",
        "Overlap: There is less overlap between topics, indicating that the topics might be capturing more distinct themes.\n",
        "Spread: The topics are more evenly spread, suggesting better differentiation.\n",
        "\n",
        "This suggests that the LDA model represented in the second image has a more coherent and distinct topic structure making it the better-performing model of the two."
      ],
      "metadata": {
        "id": "6SGcadupIOnz"
      }
    },
    {
      "cell_type": "markdown",
      "source": [
        "###Summary of Labels"
      ],
      "metadata": {
        "id": "fZAJhoAWhxOl"
      }
    },
    {
      "cell_type": "markdown",
      "source": [
        "Labeling topics in an LDA model involves interpreting the most prominent words in each topic and giving the topic a descriptive name based on those words.\n",
        "\n",
        "\n",
        "\n",
        "Topic 0: Dining Experience (words like go, time, place, restaurant, eat suggest that this topic is about the overall experience of dining out, including the actions of going out, spending time, and eating at a restaurant).\n",
        "\n",
        "Topic 1: Food Quality and Flavor (words like order, chicken, good, pizza, fry, sauce, taste, and flavor, which indicates a focus on the quality and flavor of the food, particularly items like chicken, pizza, and fries).\n",
        "\n",
        "Topic 2: Service and Wait Time (words like order, wait, say, come, ask, table, tell, take, minute, and customer\" point towards service-related aspects of dining, including the time spent waiting, interactions with staff, and customer service).\n",
        "\n",
        "Topic 3: Positive Reviews (words like good, great, food, service, place, love, amazing, staff, and nice indicate a focus on positive aspects of the dining experience, such as good service, great food, and a pleasant atmosphere.)"
      ],
      "metadata": {
        "id": "eBl6DRtzfXXf"
      }
    },
    {
      "cell_type": "code",
      "source": [
        "# Dictionary of topic numbers to short topic labels\n",
        "topic_dict = {\n",
        "    0: 'Food & Dishes',\n",
        "    1: 'Dining Experience',\n",
        "    2: 'Positive Feedback',\n",
        "    3: 'Service Issues'\n",
        "}\n",
        "\n",
        "# Assuming 'assigned_topics' is the list of most probable topic numbers assigned to each review\n",
        "# Map the assigned topic numbers to the short topic labels"
      ],
      "metadata": {
        "colab": {
          "base_uri": "https://localhost:8080/"
        },
        "id": "LzTC7NO2s9dx",
        "outputId": "47aa55c2-7717-41e4-eefb-dfafdc0c62af"
      },
      "execution_count": null,
      "outputs": [
        {
          "output_type": "stream",
          "name": "stderr",
          "text": [
            "/usr/local/lib/python3.10/dist-packages/ipykernel/ipkernel.py:283: DeprecationWarning: `should_run_async` will not call `transform_cell` automatically in the future. Please pass the result to `transformed_cell` argument and any exception that happen during thetransform in `preprocessing_exc_tuple` in IPython 7.17 and above.\n",
            "  and should_run_async(code)\n"
          ]
        }
      ]
    },
    {
      "cell_type": "code",
      "source": [
        "import pandas as pd\n",
        "\n",
        "# Function to extract the dominant topic for each document\n",
        "def format_topics_sentences(ldamodel, corpus, texts):\n",
        "    # Init output\n",
        "    sent_topics_df = pd.DataFrame()\n",
        "    # List to store the data for each row\n",
        "    all_rows = []\n",
        "\n",
        "    for i, row in enumerate(ldamodel[corpus]):\n",
        "        row = sorted(row[0], key=lambda x: (x[1]), reverse=True)\n",
        "        # Get the dominant topic, its percentage contribution, and the keywords for each document\n",
        "        for j, (topic_num, prop_topic) in enumerate(row):\n",
        "            if j == 0:  # Dominant topic\n",
        "                wp = ldamodel.show_topic(topic_num)\n",
        "                topic_keywords = \", \".join([word for word, prop in wp])\n",
        "                # Append the data for this row to the list\n",
        "                all_rows.append([int(topic_num), round(prop_topic, 4), topic_keywords])\n",
        "            else:\n",
        "                break\n",
        "    # Create the DataFrame from the list of rows\n",
        "    sent_topics_df = pd.DataFrame(all_rows, columns=['Dominant_Topic', 'Topic_Perc_Contrib', 'Keywords'])\n",
        "\n",
        "    # Reset the index of the Series to match the DataFrame\n",
        "    texts = texts.reset_index(drop=True)\n",
        "\n",
        "    # Add the original texts\n",
        "    sent_topics_df = pd.concat([sent_topics_df, texts], axis=1)\n",
        "    sent_topics_df.columns = ['Dominant_Topic', 'Topic_Perc_Contrib', 'Keywords', 'Review_Text']\n",
        "\n",
        "    return sent_topics_df\n",
        "\n",
        "# Apply the function to get the dominant topic for each review\n",
        "df_topic_reviews = format_topics_sentences(ldamodel=lda_model, corpus=corpus, texts=filtered_df['cleaned_text'])\n",
        "\n",
        "# Display the DataFrame with dominant topics and reviews\n",
        "print(df_topic_reviews.head())"
      ],
      "metadata": {
        "id": "tEZfbAgJ5da0",
        "outputId": "e7169cd8-c93e-4094-9b31-73ee23f241ae",
        "colab": {
          "base_uri": "https://localhost:8080/"
        }
      },
      "execution_count": null,
      "outputs": [
        {
          "output_type": "stream",
          "name": "stderr",
          "text": [
            "/usr/local/lib/python3.10/dist-packages/ipykernel/ipkernel.py:283: DeprecationWarning: `should_run_async` will not call `transform_cell` automatically in the future. Please pass the result to `transformed_cell` argument and any exception that happen during thetransform in `preprocessing_exc_tuple` in IPython 7.17 and above.\n",
            "  and should_run_async(code)\n"
          ]
        },
        {
          "output_type": "stream",
          "name": "stdout",
          "text": [
            "   Dominant_Topic  Topic_Perc_Contrib  \\\n",
            "0               0              0.8368   \n",
            "1               0              0.5591   \n",
            "2               0              0.8547   \n",
            "3               0              0.8761   \n",
            "4               0              0.9373   \n",
            "\n",
            "                                            Keywords  \\\n",
            "0  good, food, place, great, go, order, get, serv...   \n",
            "1  good, food, place, great, go, order, get, serv...   \n",
            "2  good, food, place, great, go, order, get, serv...   \n",
            "3  good, food, place, great, go, order, get, serv...   \n",
            "4  good, food, place, great, go, order, get, serv...   \n",
            "\n",
            "                                         Review_Text  \n",
            "0  clean staff friendly fastwhoever made wrap mad...  \n",
            "1  tried place catering event rudely told lunch t...  \n",
            "2  attentive staff amazing authentic spanish food...  \n",
            "3  come town never bad coffee staff always helpfu...  \n",
            "4  unpretentious gem hidden seminole heights grea...  \n"
          ]
        }
      ]
    },
    {
      "cell_type": "markdown",
      "source": [
        "Step 3: Perform Sentiment Analysis Using VADER"
      ],
      "metadata": {
        "id": "X-Hu0EnK5s9Y"
      }
    },
    {
      "cell_type": "code",
      "source": [
        "pip install vaderSentiment"
      ],
      "metadata": {
        "id": "P3fisWUj5xeb",
        "outputId": "13511cee-bf6e-41ac-ab39-bf6da487fa7e",
        "colab": {
          "base_uri": "https://localhost:8080/"
        }
      },
      "execution_count": null,
      "outputs": [
        {
          "output_type": "stream",
          "name": "stderr",
          "text": [
            "/usr/local/lib/python3.10/dist-packages/ipykernel/ipkernel.py:283: DeprecationWarning: `should_run_async` will not call `transform_cell` automatically in the future. Please pass the result to `transformed_cell` argument and any exception that happen during thetransform in `preprocessing_exc_tuple` in IPython 7.17 and above.\n",
            "  and should_run_async(code)\n"
          ]
        },
        {
          "output_type": "stream",
          "name": "stdout",
          "text": [
            "Requirement already satisfied: vaderSentiment in /usr/local/lib/python3.10/dist-packages (3.3.2)\n",
            "Requirement already satisfied: requests in /usr/local/lib/python3.10/dist-packages (from vaderSentiment) (2.32.3)\n",
            "Requirement already satisfied: charset-normalizer<4,>=2 in /usr/local/lib/python3.10/dist-packages (from requests->vaderSentiment) (3.3.2)\n",
            "Requirement already satisfied: idna<4,>=2.5 in /usr/local/lib/python3.10/dist-packages (from requests->vaderSentiment) (3.10)\n",
            "Requirement already satisfied: urllib3<3,>=1.21.1 in /usr/local/lib/python3.10/dist-packages (from requests->vaderSentiment) (2.2.3)\n",
            "Requirement already satisfied: certifi>=2017.4.17 in /usr/local/lib/python3.10/dist-packages (from requests->vaderSentiment) (2024.8.30)\n"
          ]
        }
      ]
    },
    {
      "cell_type": "code",
      "source": [
        "from vaderSentiment.vaderSentiment import SentimentIntensityAnalyzer\n",
        "\n",
        "# Initialize VADER sentiment analyzer\n",
        "analyzer = SentimentIntensityAnalyzer()\n",
        "\n",
        "# Function to get the sentiment score\n",
        "def get_sentiment(text):\n",
        "    return analyzer.polarity_scores(text)['compound']  # Compound score summarizes the sentiment\n",
        "\n",
        "# Apply the sentiment analysis to each review in the DataFrame\n",
        "df_topic_reviews['Sentiment_Score'] = df_topic_reviews['Review_Text'].apply(get_sentiment)\n",
        "\n",
        "# Display the DataFrame with sentiment scores\n",
        "print(df_topic_reviews.head())"
      ],
      "metadata": {
        "id": "CmFSLAL66QpQ",
        "outputId": "e881f12e-ce45-4e5e-adc7-e23a5b77bd0d",
        "colab": {
          "base_uri": "https://localhost:8080/"
        }
      },
      "execution_count": null,
      "outputs": [
        {
          "output_type": "stream",
          "name": "stderr",
          "text": [
            "/usr/local/lib/python3.10/dist-packages/ipykernel/ipkernel.py:283: DeprecationWarning: `should_run_async` will not call `transform_cell` automatically in the future. Please pass the result to `transformed_cell` argument and any exception that happen during thetransform in `preprocessing_exc_tuple` in IPython 7.17 and above.\n",
            "  and should_run_async(code)\n"
          ]
        },
        {
          "output_type": "stream",
          "name": "stdout",
          "text": [
            "   Dominant_Topic  Topic_Perc_Contrib  \\\n",
            "0               0              0.8368   \n",
            "1               0              0.5591   \n",
            "2               0              0.8547   \n",
            "3               0              0.8761   \n",
            "4               0              0.9373   \n",
            "\n",
            "                                            Keywords  \\\n",
            "0  good, food, place, great, go, order, get, serv...   \n",
            "1  good, food, place, great, go, order, get, serv...   \n",
            "2  good, food, place, great, go, order, get, serv...   \n",
            "3  good, food, place, great, go, order, get, serv...   \n",
            "4  good, food, place, great, go, order, get, serv...   \n",
            "\n",
            "                                         Review_Text  Sentiment_Score  \n",
            "0  clean staff friendly fastwhoever made wrap mad...           0.9601  \n",
            "1  tried place catering event rudely told lunch t...          -0.3283  \n",
            "2  attentive staff amazing authentic spanish food...           0.8689  \n",
            "3  come town never bad coffee staff always helpfu...           0.9770  \n",
            "4  unpretentious gem hidden seminole heights grea...           0.9744  \n"
          ]
        }
      ]
    },
    {
      "cell_type": "code",
      "source": [
        "import seaborn as sns\n",
        "import matplotlib.pyplot as plt\n",
        "\n",
        "# Group by topics and calculate average sentiment score\n",
        "topic_sentiment_summary = df_topic_reviews.groupby('Dominant_Topic').agg({\n",
        "    'Sentiment_Score': 'mean',\n",
        "    'Review_Text': 'count'\n",
        "}).reset_index()\n",
        "\n",
        "# Rename columns\n",
        "topic_sentiment_summary.columns = ['Dominant_Topic', 'Avg_Sentiment_Score', 'Num_Reviews']\n",
        "\n",
        "# Plot the average sentiment score by topic\n",
        "plt.figure(figsize=(10, 6))\n",
        "sns.barplot(x='Dominant_Topic', y='Avg_Sentiment_Score', data=topic_sentiment_summary, palette='viridis')\n",
        "plt.title('Average Sentiment Score by Topic')\n",
        "plt.xlabel('Topic')\n",
        "plt.ylabel('Average Sentiment Score')\n",
        "plt.show()"
      ],
      "metadata": {
        "id": "TS5AgjHt6W8T",
        "outputId": "ccfa9ded-efdc-42ea-9c05-e4144b02e14d",
        "colab": {
          "base_uri": "https://localhost:8080/",
          "height": 706
        }
      },
      "execution_count": null,
      "outputs": [
        {
          "output_type": "stream",
          "name": "stderr",
          "text": [
            "/usr/local/lib/python3.10/dist-packages/ipykernel/ipkernel.py:283: DeprecationWarning: `should_run_async` will not call `transform_cell` automatically in the future. Please pass the result to `transformed_cell` argument and any exception that happen during thetransform in `preprocessing_exc_tuple` in IPython 7.17 and above.\n",
            "  and should_run_async(code)\n",
            "<ipython-input-106-55c5869268e0>:15: FutureWarning: \n",
            "\n",
            "Passing `palette` without assigning `hue` is deprecated and will be removed in v0.14.0. Assign the `x` variable to `hue` and set `legend=False` for the same effect.\n",
            "\n",
            "  sns.barplot(x='Dominant_Topic', y='Avg_Sentiment_Score', data=topic_sentiment_summary, palette='viridis')\n"
          ]
        },
        {
          "output_type": "display_data",
          "data": {
            "text/plain": [
              "<Figure size 1000x600 with 1 Axes>"
            ],
            "image/png": "[encoded data removed]"
          },
          "metadata": {}
        }
      ]
    },
    {
      "cell_type": "code",
      "source": [
        "# Save the DataFrame to CSV\n",
        "df_topic_reviews.to_csv('topics_and_sentiments.csv', index=False)"
      ],
      "metadata": {
        "id": "ZXb7rVJS6f2e",
        "outputId": "c8a767b8-b695-4e21-f129-65d1f7d9bdfb",
        "colab": {
          "base_uri": "https://localhost:8080/"
        }
      },
      "execution_count": null,
      "outputs": [
        {
          "output_type": "stream",
          "name": "stderr",
          "text": [
            "/usr/local/lib/python3.10/dist-packages/ipykernel/ipkernel.py:283: DeprecationWarning: `should_run_async` will not call `transform_cell` automatically in the future. Please pass the result to `transformed_cell` argument and any exception that happen during thetransform in `preprocessing_exc_tuple` in IPython 7.17 and above.\n",
            "  and should_run_async(code)\n"
          ]
        }
      ]
    }
  ]
}