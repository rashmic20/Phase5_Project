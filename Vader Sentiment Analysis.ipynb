{
  "nbformat": 4,
  "nbformat_minor": 0,
  "metadata": {
    "colab": {
      "provenance": [],
      "authorship_tag": "ABX9TyMRVHzBn35yk8i+Mcb9NSUR",
      "include_colab_link": true
    },
    "kernelspec": {
      "name": "python3",
      "display_name": "Python 3"
    },
    "language_info": {
      "name": "python"
    }
  },
  "cells": [
    {
      "cell_type": "markdown",
      "metadata": {
        "id": "view-in-github",
        "colab_type": "text"
      },
      "source": [
        "<a href=\"https://colab.research.google.com/github/rashmic20/Phase5_Project/blob/main/Vader%20Sentiment%20Analysis.ipynb\" target=\"_parent\"><img src=\"https://colab.research.google.com/assets/colab-badge.svg\" alt=\"Open In Colab\"/></a>"
      ]
    },
    {
      "cell_type": "code",
      "execution_count": 1,
      "metadata": {
        "colab": {
          "base_uri": "https://localhost:8080/"
        },
        "id": "Rv9M6dz-_gzY",
        "outputId": "7062d920-a37c-483f-d987-685fbffdf137"
      },
      "outputs": [
        {
          "output_type": "stream",
          "name": "stdout",
          "text": [
            "<class 'pandas.core.frame.DataFrame'>\n",
            "RangeIndex: 54611 entries, 0 to 54610\n",
            "Data columns (total 16 columns):\n",
            " #   Column         Non-Null Count  Dtype  \n",
            "---  ------         --------------  -----  \n",
            " 0   review_id      54611 non-null  object \n",
            " 1   user_id        54611 non-null  object \n",
            " 2   business_id    54611 non-null  object \n",
            " 3   stars_x        54611 non-null  int64  \n",
            " 4   date           54611 non-null  object \n",
            " 5   name           54611 non-null  object \n",
            " 6   city           54611 non-null  object \n",
            " 7   state          54611 non-null  object \n",
            " 8   postal_code    54611 non-null  int64  \n",
            " 9   latitude       54611 non-null  float64\n",
            " 10  longitude      54611 non-null  float64\n",
            " 11  stars_y        54611 non-null  float64\n",
            " 12  review_count   54611 non-null  int64  \n",
            " 13  categories     54611 non-null  object \n",
            " 14  cleaned_text   54611 non-null  object \n",
            " 15  review_length  54611 non-null  int64  \n",
            "dtypes: float64(3), int64(4), object(9)\n",
            "memory usage: 6.7+ MB\n"
          ]
        }
      ],
      "source": [
        "import pandas as pd\n",
        "\n",
        "# Load the cleaned dataset\n",
        "df_filtered = pd.read_csv('filtered_reviews.csv')\n",
        "\n",
        "\n",
        "# Check for missing values\n",
        "df_filtered.info()"
      ]
    },
    {
      "cell_type": "code",
      "source": [
        "import nltk\n",
        "from gensim.utils import simple_preprocess\n",
        "from gensim.models.phrases import Phrases, Phraser\n",
        "from nltk.corpus import stopwords\n",
        "import spacy\n",
        "\n",
        "# Load necessary resources\n",
        "nltk.download('stopwords')\n",
        "stop_words = stopwords.words('english')\n",
        "nlp = spacy.load('en_core_web_sm', disable=['parser', 'ner'])\n",
        "\n",
        "# Tokenization and stopword removal\n",
        "texts = [simple_preprocess(doc) for doc in df_filtered['cleaned_text']]\n",
        "texts = [[word for word in doc if word not in stop_words] for doc in texts]\n",
        "\n",
        "# Creating bigrams and trigrams\n",
        "bigram = Phrases(texts, min_count=5, threshold=100)\n",
        "trigram = Phrases(bigram[texts], threshold=100)\n",
        "bigram_mod = Phraser(bigram)\n",
        "trigram_mod = Phraser(trigram)\n",
        "\n",
        "texts_bigrams = [bigram_mod[doc] for doc in texts]\n",
        "\n",
        "# Lemmatization\n",
        "def lemmatization(texts, allowed_postags=['NOUN', 'ADJ', 'VERB', 'ADV']):\n",
        "    texts_out = []\n",
        "    for sent in texts:\n",
        "        doc = nlp(\" \".join(sent))\n",
        "        texts_out.append([token.lemma_ for token in doc if token.pos_ in allowed_postags])\n",
        "    return texts_out\n",
        "\n",
        "texts_lemmatized = lemmatization(texts_bigrams)\n"
      ],
      "metadata": {
        "colab": {
          "base_uri": "https://localhost:8080/"
        },
        "id": "0qbMNxFl_2vV",
        "outputId": "31d5e255-4ca5-48c3-e746-f2d001713897"
      },
      "execution_count": 2,
      "outputs": [
        {
          "output_type": "stream",
          "name": "stderr",
          "text": [
            "[nltk_data] Downloading package stopwords to /root/nltk_data...\n",
            "[nltk_data]   Unzipping corpora/stopwords.zip.\n"
          ]
        }
      ]
    },
    {
      "cell_type": "code",
      "source": [
        "from gensim.corpora import Dictionary\n",
        "from gensim.models import LdaModel\n",
        "from gensim.models.coherencemodel import CoherenceModel\n",
        "\n",
        "# Create a dictionary and corpus for LDA\n",
        "id2word = Dictionary(texts_lemmatized)\n",
        "corpus = [id2word.doc2bow(text) for text in texts_lemmatized]\n",
        "\n",
        "# Build LDA model and evaluate coherence\n",
        "lda_model = LdaModel(corpus=corpus, id2word=id2word, num_topics=4, random_state=100, update_every=1, passes=10, alpha='auto', per_word_topics=True)\n",
        "\n",
        "# Coherence model\n",
        "coherence_model = CoherenceModel(model=lda_model, texts=texts_lemmatized, dictionary=id2word, coherence='c_v')\n",
        "coherence_score = coherence_model.get_coherence()\n",
        "print(f'Coherence Score: {coherence_score}')\n"
      ],
      "metadata": {
        "colab": {
          "base_uri": "https://localhost:8080/"
        },
        "id": "fBWm2RLR_6fW",
        "outputId": "fcb3c241-cb8c-4fbe-f911-657b0262af8b"
      },
      "execution_count": 3,
      "outputs": [
        {
          "output_type": "stream",
          "name": "stdout",
          "text": [
            "Coherence Score: 0.5015917155704872\n"
          ]
        }
      ]
    },
    {
      "cell_type": "code",
      "source": [
        "!pip install vaderSentiment\n",
        "from vaderSentiment.vaderSentiment import SentimentIntensityAnalyzer\n",
        "\n",
        "# Function to extract topics and perform sentiment analysis\n",
        "def get_sentiment_and_topics(ldamodel, corpus, texts):\n",
        "    analyzer = SentimentIntensityAnalyzer()\n",
        "    topic_sentiments = []\n",
        "\n",
        "    for i, row in enumerate(ldamodel[corpus]):\n",
        "        dominant_topic = sorted(row[0], key=lambda x: x[1], reverse=True)[0][0]\n",
        "        sentiment = analyzer.polarity_scores(texts[i])['compound']\n",
        "        topic_sentiments.append((dominant_topic, sentiment))\n",
        "\n",
        "    return topic_sentiments\n",
        "\n",
        "# Get the sentiment scores and dominant topics for each review\n",
        "df_filtered['Topic_Sentiment'] = get_sentiment_and_topics(lda_model, corpus, df_filtered['cleaned_text'])\n"
      ],
      "metadata": {
        "colab": {
          "base_uri": "https://localhost:8080/"
        },
        "id": "eQWAinJ4CnNT",
        "outputId": "0251a27b-aff4-4b1d-d3d9-dbd2fa67d91b"
      },
      "execution_count": 5,
      "outputs": [
        {
          "output_type": "stream",
          "name": "stdout",
          "text": [
            "Collecting vaderSentiment\n",
            "  Downloading vaderSentiment-3.3.2-py2.py3-none-any.whl.metadata (572 bytes)\n",
            "Requirement already satisfied: requests in /usr/local/lib/python3.10/dist-packages (from vaderSentiment) (2.32.3)\n",
            "Requirement already satisfied: charset-normalizer<4,>=2 in /usr/local/lib/python3.10/dist-packages (from requests->vaderSentiment) (3.3.2)\n",
            "Requirement already satisfied: idna<4,>=2.5 in /usr/local/lib/python3.10/dist-packages (from requests->vaderSentiment) (3.10)\n",
            "Requirement already satisfied: urllib3<3,>=1.21.1 in /usr/local/lib/python3.10/dist-packages (from requests->vaderSentiment) (2.2.3)\n",
            "Requirement already satisfied: certifi>=2017.4.17 in /usr/local/lib/python3.10/dist-packages (from requests->vaderSentiment) (2024.8.30)\n",
            "Downloading vaderSentiment-3.3.2-py2.py3-none-any.whl (125 kB)\n",
            "\u001b[2K   \u001b[90m━━━━━━━━━━━━━━━━━━━━━━━━━━━━━━━━━━━━━━━━\u001b[0m \u001b[32m126.0/126.0 kB\u001b[0m \u001b[31m3.1 MB/s\u001b[0m eta \u001b[36m0:00:00\u001b[0m\n",
            "\u001b[?25hInstalling collected packages: vaderSentiment\n",
            "Successfully installed vaderSentiment-3.3.2\n"
          ]
        }
      ]
    },
    {
      "cell_type": "code",
      "source": [
        "# Separate the topics and sentiment into different columns\n",
        "df_filtered[['Dominant_Topic', 'Sentiment_Score']] = pd.DataFrame(df_filtered['Topic_Sentiment'].tolist(), index=df_filtered.index)\n",
        "\n",
        "# Save the DataFrame for Tableau import\n",
        "df_filtered.to_csv('topics_and_sentiments_for_tableau.csv', index=False)\n"
      ],
      "metadata": {
        "id": "9FQeif9_DLNz"
      },
      "execution_count": 6,
      "outputs": []
    }
  ]
}