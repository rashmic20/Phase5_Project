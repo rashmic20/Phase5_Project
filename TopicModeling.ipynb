{
  "nbformat": 4,
  "nbformat_minor": 0,
  "metadata": {
    "colab": {
      "provenance": [],
      "authorship_tag": "ABX9TyPgitm8NwR1Ip9Y9Qj+HR5i",
      "include_colab_link": true
    },
    "kernelspec": {
      "name": "python3",
      "display_name": "Python 3"
    },
    "language_info": {
      "name": "python"
    }
  },
  "cells": [
    {
      "cell_type": "markdown",
      "metadata": {
        "id": "view-in-github",
        "colab_type": "text"
      },
      "source": [
        "<a href=\"https://colab.research.google.com/github/rashmic20/Phase5_Project/blob/main/TopicModeling.ipynb\" target=\"_parent\"><img src=\"https://colab.research.google.com/assets/colab-badge.svg\" alt=\"Open In Colab\"/></a>"
      ]
    },
    {
      "cell_type": "markdown",
      "source": [
        "### Topic modeling using LDA on Yelp review data."
      ],
      "metadata": {
        "id": "IyDfVDiA6eYt"
      }
    },
    {
      "cell_type": "markdown",
      "source": [
        "Load the dataset and text preprocessing for LDA"
      ],
      "metadata": {
        "id": "22tOFHM-6uFh"
      }
    },
    {
      "cell_type": "code",
      "execution_count": null,
      "metadata": {
        "id": "SCBl35-GcshA"
      },
      "outputs": [],
      "source": [
        "import pandas as pd\n",
        "import numpy as np\n",
        "from sklearn.feature_extraction.text import CountVectorizer, TfidfVectorizer\n",
        "from sklearn.decomposition import LatentDirichletAllocation\n",
        "from sklearn.model_selection import GridSearchCV\n",
        "import matplotlib.pyplot as plt\n",
        "import seaborn as sns\n",
        "from nltk.corpus import stopwords\n",
        "from nltk.tokenize import word_tokenize\n",
        "from nltk.stem import WordNetLemmatizer\n",
        "from sklearn.model_selection import train_test_split\n",
        "from sklearn.preprocessing import LabelEncoder\n",
        "from tensorflow.keras.preprocessing.text import Tokenizer\n",
        "from tensorflow.keras.preprocessing.sequence import pad_sequences\n",
        "from tensorflow.keras.models import Sequential\n",
        "from tensorflow.keras.layers import Embedding, LSTM, Dense, Dropout, SpatialDropout1D\n",
        "from tensorflow.keras.callbacks import EarlyStopping\n",
        "from sklearn.metrics import classification_report, confusion_matrix, accuracy_score\n",
        "\n",
        "# For text preprocessing\n",
        "import nltk\n",
        "from nltk.corpus import stopwords\n",
        "from nltk.tokenize import word_tokenize\n",
        "from nltk.stem import WordNetLemmatizer\n",
        "import re\n",
        "\n",
        "nltk.download('stopwords')\n",
        "nltk.download('punkt')\n",
        "nltk.download('wordnet')"
      ]
    },
    {
      "cell_type": "code",
      "source": [
        "data = pd.read_csv('restaurant_reviews_cleaned.csv')\n",
        "\n",
        "# Display the first few rows\n",
        "print(data.head())\n",
        "\n",
        "# Assuming the text reviews are in a column named 'review_text'\n",
        "reviews = data['cleaned_text'].dropna()"
      ],
      "metadata": {
        "colab": {
          "base_uri": "https://localhost:8080/"
        },
        "id": "Z8LQx95xdBfK",
        "outputId": "c0ed7603-03c5-48b7-a620-a8d97a1c8e06"
      },
      "execution_count": 4,
      "outputs": [
        {
          "output_type": "stream",
          "name": "stdout",
          "text": [
            "                review_id                 user_id             business_id  \\\n",
            "0  jA1JQhMMgAjS6KPUmeYUwg  xIqVxrEoHRx2eMeIC4HIEQ  c-IgS6Pk6vMyax7Rbr38eA   \n",
            "1  0MwFRkSZShRfeBFWN1YzsQ  qkmzH5oT1V8_1GpBc3_7zw  tVxL-Ygzwp8NMuxwvNmWRA   \n",
            "2  U8_ehvGLQzTK9drgHKObbA  OozcBexcgIKztqL49n8KxQ  _k8qEyZjGsGaCAtN_5EYSw   \n",
            "3  KBBl_3h9xJ82kIAgdYtMCA  PEvrhKgW923jPcoB48MQAg  wJmyu7W1K9A_gE8Ed4Bc9w   \n",
            "4  CE-CblTswQgRnoWSlMmJ4g  _7NoTSc5pyW8MzKNR0VKTQ  NLugmrrjRqw8jQGvard-eA   \n",
            "\n",
            "   stars_x                 date                        name          city  \\\n",
            "0      1.0  2019-10-01 23:16:46        Barbecue and Bourbon      Speedway   \n",
            "1      2.0  2019-11-11 23:13:16               Los Potrillos  Philadelphia   \n",
            "2      5.0  2019-09-30 16:14:24      Tropical Smoothie Cafe          Lutz   \n",
            "3      5.0  2019-10-19 19:08:30               Trident Grill        Tucson   \n",
            "4      5.0  2019-10-04 23:15:49  Certified Kitchen + Bakery         Boise   \n",
            "\n",
            "  state postal_code   latitude   longitude  stars_y  review_count  \\\n",
            "0    IN       46224  39.785425  -86.241454      4.0         284.0   \n",
            "1    PA       19124  40.012376  -75.112463      4.0          17.0   \n",
            "2    FL       33559  28.186591  -82.424543      3.5          13.0   \n",
            "3    AZ       85719  32.236334 -110.941738      4.0         370.0   \n",
            "4    ID       83702  43.629822 -116.203449      4.5          93.0   \n",
            "\n",
            "                                          categories  \\\n",
            "0  American (New), Restaurants, Cocktail Bars, Ba...   \n",
            "1  American (Traditional), Spanish, Restaurants, ...   \n",
            "2  Restaurants, Food, Sandwiches, Juice Bars & Sm...   \n",
            "3  Bars, Seafood, Sports Bars, American (Traditio...   \n",
            "4  Food, Breakfast & Brunch, American (New), Bake...   \n",
            "\n",
            "                                        cleaned_text  sentiment  \n",
            "0  waited months try place disappointing say leas...        0.0  \n",
            "1  steak tacos good found bones yes multiple chic...        0.0  \n",
            "2  clean staff friendly fastwhoever made wrap mad...        1.0  \n",
            "3  shrimp tacos today awesome ashleigh served eve...        1.0  \n",
            "4  best roasted turkey sandwich served side au ju...        1.0  \n"
          ]
        }
      ]
    },
    {
      "cell_type": "markdown",
      "source": [
        "Text Preprocessing"
      ],
      "metadata": {
        "id": "x2eOyQ717IWp"
      }
    },
    {
      "cell_type": "code",
      "source": [
        "# Define a function to preprocess text\n",
        "def preprocess_text(text):\n",
        "    # Convert to lowercase\n",
        "    text = text.lower()\n",
        "    # Remove punctuation and numbers\n",
        "    text = re.sub(r'\\W+', ' ', text)\n",
        "    text = re.sub(r'\\d+', '', text)\n",
        "    # Tokenize the text\n",
        "    tokens = word_tokenize(text)\n",
        "    # Remove stopwords\n",
        "    tokens = [word for word in tokens if word not in stopwords.words('english')]\n",
        "    # Lemmatize the tokens\n",
        "    lemmatizer = WordNetLemmatizer()\n",
        "    tokens = [lemmatizer.lemmatize(word) for word in tokens]\n",
        "    # Join tokens back into a single string\n",
        "    return ' '.join(tokens)\n",
        "\n",
        "# Apply the preprocessing to the reviews\n",
        "reviews_cleaned = reviews.apply(preprocess_text)"
      ],
      "metadata": {
        "id": "NquJ8D2xdONm"
      },
      "execution_count": 5,
      "outputs": []
    },
    {
      "cell_type": "markdown",
      "source": [
        "Vectorization"
      ],
      "metadata": {
        "id": "8xFdeGd17PAq"
      }
    },
    {
      "cell_type": "code",
      "source": [
        "# Tokenize and pad sequences\n",
        "from tensorflow.keras.preprocessing.text import Tokenizer\n",
        "from tensorflow.keras.preprocessing.sequence import pad_sequences\n",
        "tokenizer = Tokenizer(num_words=5000, oov_token='<OOV>')\n",
        "tokenizer.fit_on_texts(reviews_cleaned)\n",
        "sequences = tokenizer.texts_to_sequences(reviews_cleaned)\n",
        "padded_sequences = pad_sequences(sequences, maxlen=200, padding='post', truncating='post')"
      ],
      "metadata": {
        "id": "BGcr53UKtjt_"
      },
      "execution_count": 9,
      "outputs": []
    },
    {
      "cell_type": "markdown",
      "source": [],
      "metadata": {
        "id": "hxlWk1YOzoeN"
      }
    },
    {
      "cell_type": "code",
      "source": [
        "# Use CountVectorizer for LDA\n",
        "vectorizer = CountVectorizer(max_df=0.95, min_df=2, stop_words='english')\n",
        "X = vectorizer.fit_transform(reviews_cleaned)"
      ],
      "metadata": {
        "id": "HOOiQTuOzLUd"
      },
      "execution_count": 22,
      "outputs": []
    },
    {
      "cell_type": "code",
      "source": [
        "# Define the LDA model\n",
        "lda = LatentDirichletAllocation(n_components=10, random_state=42)\n",
        "\n",
        "# Fit the model\n",
        "lda.fit(X)\n",
        "\n",
        "# Display the top words per topic\n",
        "def display_topics(model, feature_names, no_top_words):\n",
        "    for topic_idx, topic in enumerate(model.components_):\n",
        "        print(f\"Topic {topic_idx+1}:\")\n",
        "        print(\" \".join([feature_names[i] for i in topic.argsort()[:-no_top_words - 1:-1]]))\n",
        "\n",
        "no_top_words = 10\n",
        "display_topics(lda, vectorizer.get_feature_names_out(), no_top_words)"
      ],
      "metadata": {
        "colab": {
          "base_uri": "https://localhost:8080/"
        },
        "id": "iev3xDI32AMi",
        "outputId": "30f9ba07-f835-4aed-ecd7-800d11847f79"
      },
      "execution_count": 23,
      "outputs": [
        {
          "output_type": "stream",
          "name": "stdout",
          "text": [
            "Topic 1:\n",
            "food great service place amazing friendly staff best delicious time\n",
            "Topic 2:\n",
            "order food time minute service said asked customer told didnt\n",
            "Topic 3:\n",
            "cheese fry sandwich good chicken burger sauce like ordered got\n",
            "Topic 4:\n",
            "taco chicken food good mexican place salsa burrito chip ordered\n",
            "Topic 5:\n",
            "pizza good roll place sushi food ordered chicken rice order\n",
            "Topic 6:\n",
            "place bar beer great good like food area drink lot\n",
            "Topic 7:\n",
            "good food coffee breakfast place really like egg sandwich time\n",
            "Topic 8:\n",
            "table mask covid restaurant room reservation dining staff experience party\n",
            "Topic 9:\n",
            "drink good cake cream got great delicious ice oyster really\n",
            "Topic 10:\n",
            "salad good dish delicious ordered meal restaurant dinner great steak\n"
          ]
        }
      ]
    },
    {
      "cell_type": "code",
      "source": [
        "!pip install pyLDAvis"
      ],
      "metadata": {
        "colab": {
          "base_uri": "https://localhost:8080/"
        },
        "id": "UklgHW-csRZt",
        "outputId": "06b70544-fb0c-4ceb-ce7d-a39eb847f9e5"
      },
      "execution_count": 29,
      "outputs": [
        {
          "output_type": "stream",
          "name": "stdout",
          "text": [
            "Collecting pyLDAvis\n",
            "  Downloading pyLDAvis-3.4.1-py3-none-any.whl.metadata (4.2 kB)\n",
            "Requirement already satisfied: numpy>=1.24.2 in /usr/local/lib/python3.10/dist-packages (from pyLDAvis) (1.26.4)\n",
            "Requirement already satisfied: scipy in /usr/local/lib/python3.10/dist-packages (from pyLDAvis) (1.13.1)\n",
            "Requirement already satisfied: pandas>=2.0.0 in /usr/local/lib/python3.10/dist-packages (from pyLDAvis) (2.1.4)\n",
            "Requirement already satisfied: joblib>=1.2.0 in /usr/local/lib/python3.10/dist-packages (from pyLDAvis) (1.4.2)\n",
            "Requirement already satisfied: jinja2 in /usr/local/lib/python3.10/dist-packages (from pyLDAvis) (3.1.4)\n",
            "Requirement already satisfied: numexpr in /usr/local/lib/python3.10/dist-packages (from pyLDAvis) (2.10.1)\n",
            "Collecting funcy (from pyLDAvis)\n",
            "  Downloading funcy-2.0-py2.py3-none-any.whl.metadata (5.9 kB)\n",
            "Requirement already satisfied: scikit-learn>=1.0.0 in /usr/local/lib/python3.10/dist-packages (from pyLDAvis) (1.5.2)\n",
            "Requirement already satisfied: gensim in /usr/local/lib/python3.10/dist-packages (from pyLDAvis) (4.3.3)\n",
            "Requirement already satisfied: setuptools in /usr/local/lib/python3.10/dist-packages (from pyLDAvis) (71.0.4)\n",
            "Requirement already satisfied: python-dateutil>=2.8.2 in /usr/local/lib/python3.10/dist-packages (from pandas>=2.0.0->pyLDAvis) (2.8.2)\n",
            "Requirement already satisfied: pytz>=2020.1 in /usr/local/lib/python3.10/dist-packages (from pandas>=2.0.0->pyLDAvis) (2024.2)\n",
            "Requirement already satisfied: tzdata>=2022.1 in /usr/local/lib/python3.10/dist-packages (from pandas>=2.0.0->pyLDAvis) (2024.1)\n",
            "Requirement already satisfied: threadpoolctl>=3.1.0 in /usr/local/lib/python3.10/dist-packages (from scikit-learn>=1.0.0->pyLDAvis) (3.5.0)\n",
            "Requirement already satisfied: smart-open>=1.8.1 in /usr/local/lib/python3.10/dist-packages (from gensim->pyLDAvis) (7.0.4)\n",
            "Requirement already satisfied: MarkupSafe>=2.0 in /usr/local/lib/python3.10/dist-packages (from jinja2->pyLDAvis) (2.1.5)\n",
            "Requirement already satisfied: six>=1.5 in /usr/local/lib/python3.10/dist-packages (from python-dateutil>=2.8.2->pandas>=2.0.0->pyLDAvis) (1.16.0)\n",
            "Requirement already satisfied: wrapt in /usr/local/lib/python3.10/dist-packages (from smart-open>=1.8.1->gensim->pyLDAvis) (1.16.0)\n",
            "Downloading pyLDAvis-3.4.1-py3-none-any.whl (2.6 MB)\n",
            "\u001b[2K   \u001b[90m━━━━━━━━━━━━━━━━━━━━━━━━━━━━━━━━━━━━━━━━\u001b[0m \u001b[32m2.6/2.6 MB\u001b[0m \u001b[31m32.3 MB/s\u001b[0m eta \u001b[36m0:00:00\u001b[0m\n",
            "\u001b[?25hDownloading funcy-2.0-py2.py3-none-any.whl (30 kB)\n",
            "Installing collected packages: funcy, pyLDAvis\n",
            "Successfully installed funcy-2.0 pyLDAvis-3.4.1\n"
          ]
        }
      ]
    },
    {
      "cell_type": "code",
      "source": [
        "import pyLDAvis\n",
        "import pyLDAvis.gensim_models as gensimvis\n",
        "import gensim"
      ],
      "metadata": {
        "colab": {
          "base_uri": "https://localhost:8080/"
        },
        "id": "B_d0nrk9sg1C",
        "outputId": "be252385-4e55-4002-c69f-6c6c4fc1955f"
      },
      "execution_count": 31,
      "outputs": [
        {
          "output_type": "stream",
          "name": "stderr",
          "text": [
            "/usr/local/lib/python3.10/dist-packages/ipykernel/ipkernel.py:283: DeprecationWarning: `should_run_async` will not call `transform_cell` automatically in the future. Please pass the result to `transformed_cell` argument and any exception that happen during thetransform in `preprocessing_exc_tuple` in IPython 7.17 and above.\n",
            "  and should_run_async(code)\n"
          ]
        }
      ]
    },
    {
      "cell_type": "code",
      "source": [
        "# Prepare the visualization\n",
        "lda_vis = gensimvis.prepare(lda_model, corpus, dictionary)\n",
        "\n",
        "# Display the visualization in a notebook (if using Jupyter)\n",
        "pyLDAvis.display(lda_vis)\n"
      ],
      "metadata": {
        "colab": {
          "base_uri": "https://localhost:8080/",
          "height": 916
        },
        "id": "Qao4qHx-si3Z",
        "outputId": "0dff89d9-fb08-482b-c909-0e1926d291c3"
      },
      "execution_count": 32,
      "outputs": [
        {
          "output_type": "stream",
          "name": "stderr",
          "text": [
            "/usr/local/lib/python3.10/dist-packages/ipykernel/ipkernel.py:283: DeprecationWarning: `should_run_async` will not call `transform_cell` automatically in the future. Please pass the result to `transformed_cell` argument and any exception that happen during thetransform in `preprocessing_exc_tuple` in IPython 7.17 and above.\n",
            "  and should_run_async(code)\n"
          ]
        },
        {
          "output_type": "execute_result",
          "data": {
            "text/plain": [
              "<IPython.core.display.HTML object>"
            ],
            "text/html": [
              "\n",
              "<link rel=\"stylesheet\" type=\"text/css\" href=\"https://cdn.jsdelivr.net/gh/bmabey/pyLDAvis@3.4.0/pyLDAvis/js/ldavis.v1.0.0.css\">\n",
              "\n",
              "\n",
              "<div id=\"ldavis_el2661350515840373604339100428\" style=\"background-color:white;\"></div>\n",
              "<script type=\"text/javascript\">\n",
              "\n",
              "var ldavis_el2661350515840373604339100428_data = {\"mdsDat\": {\"x\": [-0.16294771287249266, -0.1839205141536193, -0.15577946580860844, 0.4662744877804453, 0.036373205054275416], \"y\": [0.07001900235112937, 0.0647798836920094, 0.1176206983673369, 0.11823175857264899, -0.3706513429831247], \"topics\": [1, 2, 3, 4, 5], \"cluster\": [1, 1, 1, 1, 1], \"Freq\": [23.711760753050278, 22.415088695256966, 21.13629666473403, 17.126413229255235, 15.610440657703489]}, \"tinfo\": {\"Term\": [\"place\", \"time\", \"delicious\", \"staff\", \"friendly\", \"menu\", \"wait\", \"meal\", \"service\", \"flavor\", \"food\", \"server\", \"area\", \"location\", \"price\", \"dish\", \"parking\", \"taste\", \"waitress\", \"fast\", \"worth\", \"rude\", \"quick\", \"waiter\", \"attentive\", \"slow\", \"late\", \"far\", \"cheap\", \"expensive\", \"menu\", \"server\", \"area\", \"waiter\", \"slow\", \"late\", \"waitress\", \"attentive\", \"service\", \"food\", \"near\", \"far\", \"delay\", \"ingredient\", \"pricing\", \"distance\", \"affordable\", \"value\", \"cuisine\", \"cost\", \"cheap\", \"expensive\", \"neighborhood\", \"rude\", \"quick\", \"fast\", \"parking\", \"price\", \"dish\", \"taste\", \"worth\", \"meal\", \"time\", \"wait\", \"delicious\", \"wait\", \"location\", \"quick\", \"cuisine\", \"delay\", \"affordable\", \"food\", \"worth\", \"service\", \"ingredient\", \"pricing\", \"distance\", \"waitress\", \"value\", \"cost\", \"cheap\", \"expensive\", \"neighborhood\", \"near\", \"late\", \"slow\", \"far\", \"rude\", \"waiter\", \"attentive\", \"fast\", \"parking\", \"price\", \"dish\", \"taste\", \"time\", \"meal\", \"area\", \"menu\", \"flavor\", \"server\", \"place\", \"fast\", \"distance\", \"pricing\", \"expensive\", \"neighborhood\", \"worth\", \"far\", \"food\", \"near\", \"service\", \"delay\", \"ingredient\", \"affordable\", \"value\", \"cuisine\", \"cost\", \"cheap\", \"late\", \"slow\", \"rude\", \"waiter\", \"quick\", \"attentive\", \"parking\", \"waitress\", \"price\", \"dish\", \"taste\", \"location\", \"area\", \"menu\", \"time\", \"flavor\", \"wait\", \"delicious\", \"time\", \"meal\", \"flavor\", \"dish\", \"rude\", \"value\", \"far\", \"taste\", \"near\", \"waitress\", \"food\", \"expensive\", \"delay\", \"worth\", \"ingredient\", \"pricing\", \"distance\", \"affordable\", \"cuisine\", \"cost\", \"cheap\", \"neighborhood\", \"late\", \"slow\", \"service\", \"waiter\", \"quick\", \"attentive\", \"fast\", \"parking\", \"menu\", \"wait\", \"delicious\", \"server\", \"area\", \"location\", \"price\", \"staff\", \"friendly\", \"price\", \"parking\", \"cheap\", \"cost\", \"ingredient\", \"taste\", \"near\", \"affordable\", \"attentive\", \"neighborhood\", \"food\", \"expensive\", \"delay\", \"pricing\", \"distance\", \"value\", \"cuisine\", \"late\", \"slow\", \"far\", \"rude\", \"waiter\", \"quick\", \"fast\", \"waitress\", \"dish\", \"worth\", \"location\", \"area\", \"service\", \"menu\", \"delicious\", \"wait\"], \"Freq\": [345124.0, 246171.0, 182933.0, 138179.0, 118242.0, 122660.0, 100731.0, 84491.0, 261399.0, 66790.0, 561347.0, 71877.0, 64084.0, 56409.0, 41450.0, 42448.0, 33869.0, 51396.0, 38833.0, 32053.0, 51819.0, 25696.0, 29164.0, 25851.0, 32042.0, 14121.0, 13450.0, 25657.0, 8301.0, 9911.0, 122659.2879443137, 71876.64930164645, 64083.444760422026, 25850.813457374552, 14120.962895380353, 13449.729500732019, 38671.85425322404, 21665.545845236047, 158427.08923896693, 161326.40398731962, 3051.2670615809325, 5584.814823704874, 0.19685772647729816, 0.194992881253022, 0.1954471721290288, 0.1951014696986351, 0.19460383904682968, 0.19443739120383838, 0.19522266571689548, 0.19451455034512694, 0.1938249181130372, 0.19613170556396572, 0.19477895086154545, 0.1953257171874755, 0.19441446653382727, 0.1941687881632041, 0.1944503373684841, 0.19442822930270448, 0.19486829931477734, 0.19492432633192877, 0.19501970968960322, 0.1949048074990783, 0.19488341645164828, 0.1946257081064928, 182932.40177728827, 100730.91923466034, 56408.24491993199, 29163.91634790806, 6783.404869093813, 926.0593376591162, 3458.0600884452624, 213203.98655272432, 19531.82894056696, 49306.0667817212, 0.18704858141592354, 0.18693043565145423, 0.18743227743729723, 1.4209231242916607, 0.1872677394555128, 0.18668591628202588, 0.18627567276616583, 0.1863815991519673, 0.1874508418554274, 0.1898335830396321, 0.18698381306058098, 0.1867130474448307, 0.18857905388706564, 0.18664594441621418, 0.18672008912067317, 0.1874281164470267, 0.18736532503276293, 0.18722034935365317, 0.1866636050898512, 0.18711879106623525, 0.18761662248588992, 0.18765512576690024, 0.1873845860872732, 0.18734474601753345, 0.18731910226754028, 0.18703425330010504, 0.18685141449233428, 345123.83659209614, 32052.412391413312, 3459.353502492345, 3044.343803735394, 9897.726301480483, 8627.670532929955, 32277.399376948844, 8189.012929723886, 125768.73019318581, 2549.1023250493204, 53663.29615973333, 0.195102596175922, 0.19527883877256308, 0.19674825498628293, 0.1962318306233237, 0.195790895685258, 0.19576662615472426, 0.19595659248735847, 0.19567102160320696, 0.19491699729355208, 0.1956308268576851, 0.19501989868270608, 0.1956517586620006, 0.19532862060403094, 0.19545369656790085, 0.195143288029604, 0.19572815353390013, 0.19515637262653404, 0.19647179183378014, 0.1949200154502388, 0.19612601760066017, 0.19570342240293195, 0.19567391548285362, 0.19557151120185978, 0.19549280832778806, 0.19544284895769157, 246170.28502763147, 84490.87104295939, 66789.42422572656, 42447.277155497686, 25695.418993136915, 6744.232098933772, 11883.209834822579, 19288.82230228368, 2293.6680023803183, 160.14894599061375, 167.4763492088194, 2.594887966059632, 0.20698896954831802, 9.601227213644627, 0.2066130429689391, 0.20492577537969234, 0.20558353180816866, 0.20496375357384358, 0.2068672379275196, 0.2055131426778724, 0.20430419893541693, 0.20529488314693958, 0.20573561721292888, 0.2047923194300177, 2.69937725654252, 0.20572656862045874, 0.20479434781084166, 0.20497088887092654, 0.20467881641795202, 0.20472659125991274, 0.20586913070532195, 0.20579328940245628, 0.2056933089292172, 0.20546338261212652, 0.20545194599684233, 0.20537535663863732, 0.20497137798403303, 138178.85904175445, 118241.7713523276, 41449.51643811971, 33869.20374598509, 8300.416824280506, 7211.865419322881, 1493.1729571977628, 32107.072237013796, 4507.264000819461, 1702.3034692387923, 10376.85793018009, 3011.972799636735, 60881.229782502756, 11.089715871364414, 0.21845209302928092, 0.21979610455476586, 0.21931357163634788, 0.21916632042238499, 0.21852040815169826, 0.21842868756027614, 0.21740110224096681, 0.2208487343815257, 0.2179509406341196, 0.21783775519521242, 0.21902806425141216, 0.2188091542766027, 0.21851138688409305, 0.2178216663938293, 0.22018784785559894, 0.21847136812140253, 0.21939751662938353, 0.2199501479440478, 0.21884093851014197, 0.2187017120284093, 0.2186020978278326], \"Total\": [345124.0, 246171.0, 182933.0, 138179.0, 118242.0, 122660.0, 100731.0, 84491.0, 261399.0, 66790.0, 561347.0, 71877.0, 64084.0, 56409.0, 41450.0, 42448.0, 33869.0, 51396.0, 38833.0, 32053.0, 51819.0, 25696.0, 29164.0, 25851.0, 32042.0, 14121.0, 13450.0, 25657.0, 8301.0, 9911.0, 122660.09567690759, 71877.45439216358, 64084.253080648275, 25851.618761686168, 14121.766718846764, 13450.536319871457, 38833.83777701386, 32042.991503042056, 261399.3715078259, 561347.8268649413, 12401.491223413072, 25657.44701603961, 926.8767390443471, 1493.9568905421731, 3045.1509032231093, 3460.160933342925, 5160.959873531661, 6745.029202215477, 6784.221270301295, 7212.647899558341, 8301.197185662808, 9911.793418622623, 11640.230857242552, 25696.21454656601, 29164.730236545314, 32053.217413497205, 33869.98559695964, 41450.29822948562, 42448.07212062709, 51396.47355203812, 51819.244752287, 84491.66683306596, 246171.08141434554, 100731.733748564, 182933.21588649988, 100731.733748564, 56409.05789666899, 29164.730236545314, 6784.221270301295, 926.8767390443471, 5160.959873531661, 561347.8268649413, 51819.244752287, 261399.3715078259, 1493.9568905421731, 3045.1509032231093, 3460.160933342925, 38833.83777701386, 6745.029202215477, 7212.647899558341, 8301.197185662808, 9911.793418622623, 11640.230857242552, 12401.491223413072, 13450.536319871457, 14121.766718846764, 25657.44701603961, 25696.21454656601, 25851.618761686168, 32042.991503042056, 32053.217413497205, 33869.98559695964, 41450.29822948562, 42448.07212062709, 51396.47355203812, 246171.08141434554, 84491.66683306596, 64084.253080648275, 122660.09567690759, 66790.21889546126, 71877.45439216358, 345124.6409860075, 32053.217413497205, 3460.160933342925, 3045.1509032231093, 9911.793418622623, 11640.230857242552, 51819.244752287, 25657.44701603961, 561347.8268649413, 12401.491223413072, 261399.3715078259, 926.8767390443471, 1493.9568905421731, 5160.959873531661, 6745.029202215477, 6784.221270301295, 7212.647899558341, 8301.197185662808, 13450.536319871457, 14121.766718846764, 25696.21454656601, 25851.618761686168, 29164.730236545314, 32042.991503042056, 33869.98559695964, 38833.83777701386, 41450.29822948562, 42448.07212062709, 51396.47355203812, 56409.05789666899, 64084.253080648275, 122660.09567690759, 246171.08141434554, 66790.21889546126, 100731.733748564, 182933.21588649988, 246171.08141434554, 84491.66683306596, 66790.21889546126, 42448.07212062709, 25696.21454656601, 6745.029202215477, 25657.44701603961, 51396.47355203812, 12401.491223413072, 38833.83777701386, 561347.8268649413, 9911.793418622623, 926.8767390443471, 51819.244752287, 1493.9568905421731, 3045.1509032231093, 3460.160933342925, 5160.959873531661, 6784.221270301295, 7212.647899558341, 8301.197185662808, 11640.230857242552, 13450.536319871457, 14121.766718846764, 261399.3715078259, 25851.618761686168, 29164.730236545314, 32042.991503042056, 32053.217413497205, 33869.98559695964, 122660.09567690759, 100731.733748564, 182933.21588649988, 71877.45439216358, 64084.253080648275, 56409.05789666899, 41450.29822948562, 138179.63840557975, 118242.55121365236, 41450.29822948562, 33869.98559695964, 8301.197185662808, 7212.647899558341, 1493.9568905421731, 51396.47355203812, 12401.491223413072, 5160.959873531661, 32042.991503042056, 11640.230857242552, 561347.8268649413, 9911.793418622623, 926.8767390443471, 3045.1509032231093, 3460.160933342925, 6745.029202215477, 6784.221270301295, 13450.536319871457, 14121.766718846764, 25657.44701603961, 25696.21454656601, 25851.618761686168, 29164.730236545314, 32053.217413497205, 38833.83777701386, 42448.07212062709, 51819.244752287, 56409.05789666899, 64084.253080648275, 261399.3715078259, 122660.09567690759, 182933.21588649988, 100731.733748564], \"Category\": [\"Default\", \"Default\", \"Default\", \"Default\", \"Default\", \"Default\", \"Default\", \"Default\", \"Default\", \"Default\", \"Default\", \"Default\", \"Default\", \"Default\", \"Default\", \"Default\", \"Default\", \"Default\", \"Default\", \"Default\", \"Default\", \"Default\", \"Default\", \"Default\", \"Default\", \"Default\", \"Default\", \"Default\", \"Default\", \"Default\", \"Topic1\", \"Topic1\", \"Topic1\", \"Topic1\", \"Topic1\", \"Topic1\", \"Topic1\", \"Topic1\", \"Topic1\", \"Topic1\", \"Topic1\", \"Topic1\", \"Topic1\", \"Topic1\", \"Topic1\", \"Topic1\", \"Topic1\", \"Topic1\", \"Topic1\", \"Topic1\", \"Topic1\", \"Topic1\", \"Topic1\", \"Topic1\", \"Topic1\", \"Topic1\", \"Topic1\", \"Topic1\", \"Topic1\", \"Topic1\", \"Topic1\", \"Topic1\", \"Topic1\", \"Topic1\", \"Topic2\", \"Topic2\", \"Topic2\", \"Topic2\", \"Topic2\", \"Topic2\", \"Topic2\", \"Topic2\", \"Topic2\", \"Topic2\", \"Topic2\", \"Topic2\", \"Topic2\", \"Topic2\", \"Topic2\", \"Topic2\", \"Topic2\", \"Topic2\", \"Topic2\", \"Topic2\", \"Topic2\", \"Topic2\", \"Topic2\", \"Topic2\", \"Topic2\", \"Topic2\", \"Topic2\", \"Topic2\", \"Topic2\", \"Topic2\", \"Topic2\", \"Topic2\", \"Topic2\", \"Topic2\", \"Topic2\", \"Topic2\", \"Topic2\", \"Topic3\", \"Topic3\", \"Topic3\", \"Topic3\", \"Topic3\", \"Topic3\", \"Topic3\", \"Topic3\", \"Topic3\", \"Topic3\", \"Topic3\", \"Topic3\", \"Topic3\", \"Topic3\", \"Topic3\", \"Topic3\", \"Topic3\", \"Topic3\", \"Topic3\", \"Topic3\", \"Topic3\", \"Topic3\", \"Topic3\", \"Topic3\", \"Topic3\", \"Topic3\", \"Topic3\", \"Topic3\", \"Topic3\", \"Topic3\", \"Topic3\", \"Topic3\", \"Topic3\", \"Topic3\", \"Topic3\", \"Topic3\", \"Topic4\", \"Topic4\", \"Topic4\", \"Topic4\", \"Topic4\", \"Topic4\", \"Topic4\", \"Topic4\", \"Topic4\", \"Topic4\", \"Topic4\", \"Topic4\", \"Topic4\", \"Topic4\", \"Topic4\", \"Topic4\", \"Topic4\", \"Topic4\", \"Topic4\", \"Topic4\", \"Topic4\", \"Topic4\", \"Topic4\", \"Topic4\", \"Topic4\", \"Topic4\", \"Topic4\", \"Topic4\", \"Topic4\", \"Topic4\", \"Topic4\", \"Topic4\", \"Topic4\", \"Topic4\", \"Topic4\", \"Topic4\", \"Topic4\", \"Topic5\", \"Topic5\", \"Topic5\", \"Topic5\", \"Topic5\", \"Topic5\", \"Topic5\", \"Topic5\", \"Topic5\", \"Topic5\", \"Topic5\", \"Topic5\", \"Topic5\", \"Topic5\", \"Topic5\", \"Topic5\", \"Topic5\", \"Topic5\", \"Topic5\", \"Topic5\", \"Topic5\", \"Topic5\", \"Topic5\", \"Topic5\", \"Topic5\", \"Topic5\", \"Topic5\", \"Topic5\", \"Topic5\", \"Topic5\", \"Topic5\", \"Topic5\", \"Topic5\", \"Topic5\", \"Topic5\"], \"logprob\": [30.0, 29.0, 28.0, 27.0, 26.0, 25.0, 24.0, 23.0, 22.0, 21.0, 20.0, 19.0, 18.0, 17.0, 16.0, 15.0, 14.0, 13.0, 12.0, 11.0, 10.0, 9.0, 8.0, 7.0, 6.0, 5.0, 4.0, 3.0, 2.0, 1.0, -1.7428, -2.2772, -2.392, -3.2998, -3.9045, -3.9532, -2.8971, -3.4765, -1.4869, -1.4688, -5.4366, -4.8321, -15.0852, -15.0947, -15.0924, -15.0942, -15.0967, -15.0976, -15.0936, -15.0972, -15.1007, -15.0889, -15.0958, -15.093, -15.0977, -15.099, -15.0975, -15.0976, -15.0954, -15.0951, -15.0946, -15.0952, -15.0953, -15.0966, -1.2868, -1.8835, -2.4633, -3.123, -4.5815, -6.5728, -5.2552, -1.1337, -3.5239, -2.5979, -15.0801, -15.0807, -15.078, -13.0524, -15.0789, -15.082, -15.0842, -15.0837, -15.0779, -15.0653, -15.0804, -15.0819, -15.0719, -15.0822, -15.0818, -15.0781, -15.0784, -15.0792, -15.0822, -15.0797, -15.0771, -15.0769, -15.0783, -15.0785, -15.0786, -15.0802, -15.0811, -0.5933, -2.9698, -5.1961, -5.3239, -4.1449, -4.2822, -2.9628, -4.3344, -1.6028, -5.5015, -2.4545, -14.9792, -14.9783, -14.9708, -14.9734, -14.9757, -14.9758, -14.9748, -14.9763, -14.9801, -14.9765, -14.9796, -14.9764, -14.978, -14.9774, -14.979, -14.976, -14.9789, -14.9722, -14.9801, -14.974, -14.9761, -14.9763, -14.9768, -14.9772, -14.9774, -0.7208, -1.7902, -2.0253, -2.4786, -2.9805, -4.3181, -3.7517, -3.2673, -5.3967, -8.0585, -8.0137, -12.181, -14.7097, -10.8727, -14.7115, -14.7197, -14.7165, -14.7195, -14.7103, -14.7168, -14.7227, -14.7179, -14.7158, -14.7203, -12.1416, -14.7158, -14.7203, -14.7195, -14.7209, -14.7207, -14.7151, -14.7155, -14.716, -14.7171, -14.7171, -14.7175, -14.7195, -1.2056, -1.3614, -2.4097, -2.6116, -4.0178, -4.1584, -5.7332, -2.6651, -4.6285, -5.6022, -3.7946, -5.0316, -2.0252, -10.6359, -14.5631, -14.557, -14.5592, -14.5598, -14.5628, -14.5632, -14.5679, -14.5522, -14.5654, -14.5659, -14.5605, -14.5615, -14.5628, -14.566, -14.5552, -14.563, -14.5588, -14.5563, -14.5613, -14.562, -14.5624], \"loglift\": [30.0, 29.0, 28.0, 27.0, 26.0, 25.0, 24.0, 23.0, 22.0, 21.0, 20.0, 19.0, 18.0, 17.0, 16.0, 15.0, 14.0, 13.0, 12.0, 11.0, 10.0, 9.0, 8.0, 7.0, 6.0, 5.0, 4.0, 3.0, 2.0, 1.0, 1.4392, 1.4392, 1.4392, 1.4392, 1.4391, 1.4391, 1.435, 1.0478, 0.9384, 0.1923, 0.0369, -0.0856, -7.0179, -7.5048, -8.2146, -8.3441, -8.7465, -9.015, -9.0168, -9.0816, -9.2258, -9.3913, -9.5589, -10.348, -10.4793, -10.575, -10.6287, -10.8307, -10.8523, -11.0433, -11.051, -11.5405, -12.6099, -11.7177, 1.4954, 1.4954, 1.4954, 1.4954, 1.4953, 1.4946, 1.095, 0.5273, 0.5197, -0.1726, -7.4901, -8.2029, -8.328, -8.7203, -8.9963, -9.0665, -9.2092, -9.386, -9.541, -9.5917, -9.6881, -9.7382, -10.3254, -10.3372, -10.3428, -10.5538, -10.5544, -10.6103, -10.8153, -10.8366, -11.0252, -12.5915, -11.5236, -11.2473, -11.8967, -11.2903, -11.3647, 1.5542, 1.5542, 1.5539, 1.5539, 1.5528, 1.2547, 1.0808, 0.4121, 0.0583, -0.0279, -0.0291, -6.9119, -7.3883, -8.6205, -8.8908, -8.8989, -8.9602, -9.0998, -9.5839, -9.6365, -10.2314, -10.2406, -10.358, -10.4537, -10.5085, -10.6469, -10.7091, -10.7358, -10.9204, -11.0214, -11.1428, -11.7941, -12.4909, -11.187, -11.5983, -12.1952, 1.7645, 1.7645, 1.7645, 1.7645, 1.7645, 1.7644, 0.9948, 0.7845, 0.0769, -3.7264, -6.3527, -6.4834, -6.6424, -6.8291, -7.1215, -7.8419, -7.9664, -8.3693, -8.6335, -8.7013, -8.8478, -9.181, -9.3234, -9.3767, -9.7162, -9.9768, -10.1019, -10.1952, -10.1969, -10.2518, -11.5331, -11.3366, -11.9337, -11.0007, -10.8859, -10.7588, -10.4526, 1.8572, 1.8572, 1.8572, 1.8572, 1.8571, 1.8571, 1.8567, 1.3867, 0.8451, 0.7481, 0.7297, 0.5054, -0.3642, -4.9382, -6.4958, -7.6791, -7.8091, -8.4773, -8.486, -9.1708, -9.2243, -9.8056, -9.8204, -9.8269, -9.942, -10.0375, -10.2307, -10.3229, -10.5116, -10.6043, -10.7276, -12.1309, -11.3794, -11.7797, -11.1835]}, \"token.table\": {\"Topic\": [2, 5, 1, 1, 5, 5, 5, 2, 2, 2, 4, 3, 3, 4, 5, 1, 3, 4, 3, 4, 1, 2, 3, 4, 5, 5, 5, 1, 2, 4, 1, 1, 3, 4, 5, 3, 5, 5, 3, 5, 3, 2, 4, 1, 1, 2, 3, 4, 1, 5, 4, 5, 4, 4, 2, 1, 1, 2, 4, 2, 3, 4], \"Freq\": [0.6700303983634114, 0.3297836142320781, 0.9999804463563506, 0.6761540974706778, 0.3238461677030012, 0.999855781565474, 0.9999101717472746, 0.9998199837162386, 0.9990540931631847, 0.9999933533858573, 0.9999747427722031, 0.9996644857377187, 0.9986083831613453, 0.00030266974636128873, 0.001109789069991392, 0.2176755932306347, 0.31916659498042393, 0.4631403893213307, 0.9999620189923059, 0.9999817503897813, 0.28739044186023827, 0.3798072955777137, 0.22404825311679646, 0.00029749825688766716, 0.1084550381890902, 0.999995338280114, 0.9993594925340678, 0.9999601265065792, 0.9999812459787765, 0.9999921077061094, 0.9999910673727952, 0.24601880088742425, 0.2055397979226629, 0.18497775458398927, 0.36342403657804695, 0.7412224126664686, 0.25875775463043615, 0.9999709005793104, 0.9999981427405308, 0.9999928051305211, 0.9996220537964503, 0.9999749616561034, 0.999952734416822, 0.9999936782379479, 0.6060726125168091, 0.18862325381881742, 0.2052912357457348, 1.1476691710064745e-05, 0.999945706591673, 0.9999953798867394, 0.375298121970765, 0.62469266432243, 0.9999956070618071, 0.9998474132305997, 0.9999927158151984, 0.9999760648765607, 0.9958325577311431, 2.5750738460155746e-05, 0.00412011815362492, 0.3769256015476368, 0.6228766967618817, 0.00019297849761808151], \"Term\": [\"affordable\", \"affordable\", \"area\", \"attentive\", \"attentive\", \"cheap\", \"cost\", \"cuisine\", \"delay\", \"delicious\", \"dish\", \"distance\", \"expensive\", \"expensive\", \"expensive\", \"far\", \"far\", \"far\", \"fast\", \"flavor\", \"food\", \"food\", \"food\", \"food\", \"food\", \"friendly\", \"ingredient\", \"late\", \"location\", \"meal\", \"menu\", \"near\", \"near\", \"near\", \"near\", \"neighborhood\", \"neighborhood\", \"parking\", \"place\", \"price\", \"pricing\", \"quick\", \"rude\", \"server\", \"service\", \"service\", \"service\", \"service\", \"slow\", \"staff\", \"taste\", \"taste\", \"time\", \"value\", \"wait\", \"waiter\", \"waitress\", \"waitress\", \"waitress\", \"worth\", \"worth\", \"worth\"]}, \"R\": 30, \"lambda.step\": 0.01, \"plot.opts\": {\"xlab\": \"PC1\", \"ylab\": \"PC2\"}, \"topic.order\": [4, 1, 3, 5, 2]};\n",
              "\n",
              "function LDAvis_load_lib(url, callback){\n",
              "  var s = document.createElement('script');\n",
              "  s.src = url;\n",
              "  s.async = true;\n",
              "  s.onreadystatechange = s.onload = callback;\n",
              "  s.onerror = function(){console.warn(\"failed to load library \" + url);};\n",
              "  document.getElementsByTagName(\"head\")[0].appendChild(s);\n",
              "}\n",
              "\n",
              "if(typeof(LDAvis) !== \"undefined\"){\n",
              "   // already loaded: just create the visualization\n",
              "   !function(LDAvis){\n",
              "       new LDAvis(\"#\" + \"ldavis_el2661350515840373604339100428\", ldavis_el2661350515840373604339100428_data);\n",
              "   }(LDAvis);\n",
              "}else if(typeof define === \"function\" && define.amd){\n",
              "   // require.js is available: use it to load d3/LDAvis\n",
              "   require.config({paths: {d3: \"https://d3js.org/d3.v5\"}});\n",
              "   require([\"d3\"], function(d3){\n",
              "      window.d3 = d3;\n",
              "      LDAvis_load_lib(\"https://cdn.jsdelivr.net/gh/bmabey/pyLDAvis@3.4.0/pyLDAvis/js/ldavis.v3.0.0.js\", function(){\n",
              "        new LDAvis(\"#\" + \"ldavis_el2661350515840373604339100428\", ldavis_el2661350515840373604339100428_data);\n",
              "      });\n",
              "    });\n",
              "}else{\n",
              "    // require.js not available: dynamically load d3 & LDAvis\n",
              "    LDAvis_load_lib(\"https://d3js.org/d3.v5.js\", function(){\n",
              "         LDAvis_load_lib(\"https://cdn.jsdelivr.net/gh/bmabey/pyLDAvis@3.4.0/pyLDAvis/js/ldavis.v3.0.0.js\", function(){\n",
              "                 new LDAvis(\"#\" + \"ldavis_el2661350515840373604339100428\", ldavis_el2661350515840373604339100428_data);\n",
              "            })\n",
              "         });\n",
              "}\n",
              "</script>"
            ]
          },
          "metadata": {},
          "execution_count": 32
        }
      ]
    }
  ]
}